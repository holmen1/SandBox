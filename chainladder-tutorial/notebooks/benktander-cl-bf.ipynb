{
 "cells": [
  {
   "cell_type": "code",
   "execution_count": 1,
   "metadata": {},
   "outputs": [],
   "source": [
    "import chainladder as cl"
   ]
  },
  {
   "cell_type": "code",
   "execution_count": 2,
   "metadata": {},
   "outputs": [
    {
     "data": {
      "text/html": [
       "<table border=\"1\" class=\"dataframe\">\n",
       "  <thead>\n",
       "    <tr style=\"text-align: right;\">\n",
       "      <th></th>\n",
       "      <th>premium</th>\n",
       "    </tr>\n",
       "  </thead>\n",
       "  <tbody>\n",
       "    <tr>\n",
       "      <th>1988</th>\n",
       "      <td>440,469</td>\n",
       "    </tr>\n",
       "    <tr>\n",
       "      <th>1989</th>\n",
       "      <td>476,358</td>\n",
       "    </tr>\n",
       "    <tr>\n",
       "      <th>1990</th>\n",
       "      <td>460,119</td>\n",
       "    </tr>\n",
       "    <tr>\n",
       "      <th>1991</th>\n",
       "      <td>436,063</td>\n",
       "    </tr>\n",
       "    <tr>\n",
       "      <th>1992</th>\n",
       "      <td>426,077</td>\n",
       "    </tr>\n",
       "    <tr>\n",
       "      <th>1993</th>\n",
       "      <td>434,936</td>\n",
       "    </tr>\n",
       "    <tr>\n",
       "      <th>1994</th>\n",
       "      <td>470,861</td>\n",
       "    </tr>\n",
       "    <tr>\n",
       "      <th>1995</th>\n",
       "      <td>530,111</td>\n",
       "    </tr>\n",
       "    <tr>\n",
       "      <th>1996</th>\n",
       "      <td>548,637</td>\n",
       "    </tr>\n",
       "    <tr>\n",
       "      <th>1997</th>\n",
       "      <td>574,315</td>\n",
       "    </tr>\n",
       "  </tbody>\n",
       "</table>"
      ],
      "text/plain": [
       "       premium\n",
       "1988  440469.0\n",
       "1989  476358.0\n",
       "1990  460119.0\n",
       "1991  436063.0\n",
       "1992  426077.0\n",
       "1993  434936.0\n",
       "1994  470861.0\n",
       "1995  530111.0\n",
       "1996  548637.0\n",
       "1997  574315.0"
      ]
     },
     "execution_count": 2,
     "metadata": {},
     "output_type": "execute_result"
    }
   ],
   "source": [
    "# Load Data\n",
    "clrd = cl.load_sample('clrd')\n",
    "medmal_paid = clrd.groupby('LOB').sum().loc['medmal', 'CumPaidLoss']\n",
    "medmal_prem = clrd.groupby('LOB').sum().loc['medmal', 'EarnedPremDIR'].latest_diagonal\n",
    "medmal_prem.rename('development', ['premium'])"
   ]
  },
  {
   "cell_type": "code",
   "execution_count": 3,
   "metadata": {},
   "outputs": [],
   "source": [
    "# Generate LDFs and Tail Factor\n",
    "medmal_paid = cl.Development().fit_transform(medmal_paid)\n",
    "medmal_paid = cl.TailCurve().fit_transform(medmal_paid)"
   ]
  },
  {
   "cell_type": "code",
   "execution_count": 4,
   "metadata": {},
   "outputs": [],
   "source": [
    "# Benktander Model\n",
    "benk = cl.Benktander()"
   ]
  },
  {
   "cell_type": "code",
   "execution_count": 5,
   "metadata": {},
   "outputs": [
    {
     "data": {
      "text/plain": [
       "GridSearch(error_score='raise',\n",
       "           estimator=Benktander(apriori=1.0, apriori_sigma=0, n_iters=1,\n",
       "                                random_state=None),\n",
       "           param_grid={'apriori': [0.5, 0.75, 1.0],\n",
       "                       'n_iters': [1, 3, 5, 7, 9, 11, 13, 15, 17, 19, 21, 23,\n",
       "                                   25, 27, 29, 31, 33, 35, 37, 39, 41, 43, 45,\n",
       "                                   47, 49, 51, 53, 55, 57, 59, ...]},\n",
       "           scoring={'IBNR': <function <lambda> at 0x7fbb66bae680>}, verbose=0)"
      ]
     },
     "execution_count": 5,
     "metadata": {},
     "output_type": "execute_result"
    }
   ],
   "source": [
    "# Prep Benktander Grid Search with various assumptions, and a scoring function\n",
    "param_grid = dict(n_iters=list(range(1,100,2)),\n",
    "                  apriori=[0.50, 0.75, 1.00])\n",
    "scoring = {'IBNR':lambda x: x.ibnr_.sum()}\n",
    "grid = cl.GridSearch(benk, param_grid, scoring=scoring)\n",
    "# Perform Grid Search\n",
    "grid.fit(medmal_paid, sample_weight=medmal_prem)"
   ]
  },
  {
   "cell_type": "code",
   "execution_count": 6,
   "metadata": {},
   "outputs": [
    {
     "data": {
      "text/plain": [
       "[Text(0, 0.5, 'IBNR')]"
      ]
     },
     "execution_count": 6,
     "metadata": {},
     "output_type": "execute_result"
    },
    {
     "data": {
      "image/png": "[encoded data removed]",
      "text/plain": [
       "<Figure size 432x288 with 1 Axes>"
      ]
     },
     "metadata": {
      "needs_background": "light"
     },
     "output_type": "display_data"
    }
   ],
   "source": [
    "# Plot data\n",
    "grid.results_.pivot(index='n_iters', columns='apriori', values='IBNR').plot(\n",
    "    title='Benktander convergence to Chainladder', grid=True).set(ylabel='IBNR')"
   ]
  },
  {
   "cell_type": "code",
   "execution_count": null,
   "metadata": {},
   "outputs": [],
   "source": []
  }
 ],
 "metadata": {
  "kernelspec": {
   "display_name": "Python 3",
   "language": "python",
   "name": "python3"
  },
  "language_info": {
   "codemirror_mode": {
    "name": "ipython",
    "version": 3
   },
   "file_extension": ".py",
   "mimetype": "text/x-python",
   "name": "python",
   "nbconvert_exporter": "python",
   "pygments_lexer": "ipython3",
   "version": "3.7.7"
  }
 },
 "nbformat": 4,
 "nbformat_minor": 4
}
