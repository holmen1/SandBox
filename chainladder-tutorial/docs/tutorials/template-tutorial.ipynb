{
 "cells": [
  {
   "cell_type": "markdown",
   "metadata": {},
   "source": [
    "## Outputting to Excel with Templates\n",
    "### Getting Started\n",
    "Exercises requires chainladder v0.6.1 and later"
   ]
  },
  {
   "cell_type": "code",
   "execution_count": 1,
   "metadata": {},
   "outputs": [
    {
     "data": {
      "text/plain": [
       "'0.7.8'"
      ]
     },
     "execution_count": 1,
     "metadata": {},
     "output_type": "execute_result"
    }
   ],
   "source": [
    "import chainladder as cl\n",
    "cl.__version__"
   ]
  },
  {
   "cell_type": "raw",
   "metadata": {},
   "source": [
    ".. note::\n",
    "   Excel templating is a very new feature so the template library is sparse.  This tutorial introduces the concept of templating. Expect more templates soon."
   ]
  },
  {
   "cell_type": "markdown",
   "metadata": {},
   "source": [
    "### Excel Templates\n",
    "`chainladder` relies on the `xlcompose` library to produce rich spreadsheet outputs. These are accessed by calling on `cl.load_template` which is similar to how we load sample data with `cl.load_sample`.  A template is a YAML file that specifies the layout of an Excel file.  Anyone can write a custom template and pass it to the `cl.load_template` function.  You can view the template files included with `chainladder` [here](https://github.com/casact/chainladder-python/blob/master/chainladder/utils/templates).  To make your own custom templates it is worth reading the [xlcompose templating docs](https://xlcompose.readthedocs.io/en/latest/templating.html)."
   ]
  },
  {
   "cell_type": "code",
   "execution_count": 2,
   "metadata": {},
   "outputs": [
    {
     "data": {
      "text/html": [
       "<table border=\"1\" class=\"dataframe\">\n",
       "  <thead>\n",
       "    <tr style=\"text-align: right;\">\n",
       "      <th></th>\n",
       "      <th>12</th>\n",
       "      <th>24</th>\n",
       "      <th>36</th>\n",
       "      <th>48</th>\n",
       "      <th>60</th>\n",
       "      <th>72</th>\n",
       "      <th>84</th>\n",
       "      <th>96</th>\n",
       "      <th>108</th>\n",
       "      <th>120</th>\n",
       "    </tr>\n",
       "  </thead>\n",
       "  <tbody>\n",
       "    <tr>\n",
       "      <th>1998</th>\n",
       "      <td>37,017,487</td>\n",
       "      <td>43,169,009</td>\n",
       "      <td>45,568,919</td>\n",
       "      <td>46,784,558</td>\n",
       "      <td>47,337,318</td>\n",
       "      <td>47,533,264</td>\n",
       "      <td>47,634,419</td>\n",
       "      <td>47,689,655</td>\n",
       "      <td>47,724,678</td>\n",
       "      <td>47,742,304</td>\n",
       "    </tr>\n",
       "    <tr>\n",
       "      <th>1999</th>\n",
       "      <td>38,954,484</td>\n",
       "      <td>46,045,718</td>\n",
       "      <td>48,882,924</td>\n",
       "      <td>50,219,672</td>\n",
       "      <td>50,729,292</td>\n",
       "      <td>50,926,779</td>\n",
       "      <td>51,069,285</td>\n",
       "      <td>51,163,540</td>\n",
       "      <td>51,185,767</td>\n",
       "      <td></td>\n",
       "    </tr>\n",
       "    <tr>\n",
       "      <th>2000</th>\n",
       "      <td>41,155,776</td>\n",
       "      <td>49,371,478</td>\n",
       "      <td>52,358,476</td>\n",
       "      <td>53,780,322</td>\n",
       "      <td>54,303,086</td>\n",
       "      <td>54,582,950</td>\n",
       "      <td>54,742,188</td>\n",
       "      <td>54,837,929</td>\n",
       "      <td></td>\n",
       "      <td></td>\n",
       "    </tr>\n",
       "    <tr>\n",
       "      <th>2001</th>\n",
       "      <td>42,394,069</td>\n",
       "      <td>50,584,112</td>\n",
       "      <td>53,704,296</td>\n",
       "      <td>55,150,118</td>\n",
       "      <td>55,895,583</td>\n",
       "      <td>56,156,727</td>\n",
       "      <td>56,299,562</td>\n",
       "      <td></td>\n",
       "      <td></td>\n",
       "      <td></td>\n",
       "    </tr>\n",
       "    <tr>\n",
       "      <th>2002</th>\n",
       "      <td>44,755,243</td>\n",
       "      <td>52,971,643</td>\n",
       "      <td>56,102,312</td>\n",
       "      <td>57,703,851</td>\n",
       "      <td>58,363,564</td>\n",
       "      <td>58,592,712</td>\n",
       "      <td></td>\n",
       "      <td></td>\n",
       "      <td></td>\n",
       "      <td></td>\n",
       "    </tr>\n",
       "    <tr>\n",
       "      <th>2003</th>\n",
       "      <td>45,163,102</td>\n",
       "      <td>52,497,731</td>\n",
       "      <td>55,468,551</td>\n",
       "      <td>57,015,411</td>\n",
       "      <td>57,565,344</td>\n",
       "      <td></td>\n",
       "      <td></td>\n",
       "      <td></td>\n",
       "      <td></td>\n",
       "      <td></td>\n",
       "    </tr>\n",
       "    <tr>\n",
       "      <th>2004</th>\n",
       "      <td>45,417,309</td>\n",
       "      <td>52,640,322</td>\n",
       "      <td>55,553,673</td>\n",
       "      <td>56,976,657</td>\n",
       "      <td></td>\n",
       "      <td></td>\n",
       "      <td></td>\n",
       "      <td></td>\n",
       "      <td></td>\n",
       "      <td></td>\n",
       "    </tr>\n",
       "    <tr>\n",
       "      <th>2005</th>\n",
       "      <td>46,360,869</td>\n",
       "      <td>53,790,061</td>\n",
       "      <td>56,786,410</td>\n",
       "      <td></td>\n",
       "      <td></td>\n",
       "      <td></td>\n",
       "      <td></td>\n",
       "      <td></td>\n",
       "      <td></td>\n",
       "      <td></td>\n",
       "    </tr>\n",
       "    <tr>\n",
       "      <th>2006</th>\n",
       "      <td>46,582,684</td>\n",
       "      <td>54,641,339</td>\n",
       "      <td></td>\n",
       "      <td></td>\n",
       "      <td></td>\n",
       "      <td></td>\n",
       "      <td></td>\n",
       "      <td></td>\n",
       "      <td></td>\n",
       "      <td></td>\n",
       "    </tr>\n",
       "    <tr>\n",
       "      <th>2007</th>\n",
       "      <td>48,853,563</td>\n",
       "      <td></td>\n",
       "      <td></td>\n",
       "      <td></td>\n",
       "      <td></td>\n",
       "      <td></td>\n",
       "      <td></td>\n",
       "      <td></td>\n",
       "      <td></td>\n",
       "      <td></td>\n",
       "    </tr>\n",
       "  </tbody>\n",
       "</table>"
      ],
      "text/plain": [
       "             12          24          36          48          60          72          84          96          108         120\n",
       "1998  37017487.0  43169009.0  45568919.0  46784558.0  47337318.0  47533264.0  47634419.0  47689655.0  47724678.0  47742304.0\n",
       "1999  38954484.0  46045718.0  48882924.0  50219672.0  50729292.0  50926779.0  51069285.0  51163540.0  51185767.0         NaN\n",
       "2000  41155776.0  49371478.0  52358476.0  53780322.0  54303086.0  54582950.0  54742188.0  54837929.0         NaN         NaN\n",
       "2001  42394069.0  50584112.0  53704296.0  55150118.0  55895583.0  56156727.0  56299562.0         NaN         NaN         NaN\n",
       "2002  44755243.0  52971643.0  56102312.0  57703851.0  58363564.0  58592712.0         NaN         NaN         NaN         NaN\n",
       "2003  45163102.0  52497731.0  55468551.0  57015411.0  57565344.0         NaN         NaN         NaN         NaN         NaN\n",
       "2004  45417309.0  52640322.0  55553673.0  56976657.0         NaN         NaN         NaN         NaN         NaN         NaN\n",
       "2005  46360869.0  53790061.0  56786410.0         NaN         NaN         NaN         NaN         NaN         NaN         NaN\n",
       "2006  46582684.0  54641339.0         NaN         NaN         NaN         NaN         NaN         NaN         NaN         NaN\n",
       "2007  48853563.0         NaN         NaN         NaN         NaN         NaN         NaN         NaN         NaN         NaN"
      ]
     },
     "execution_count": 2,
     "metadata": {},
     "output_type": "execute_result"
    }
   ],
   "source": [
    "triangle=cl.load_sample('usauto')['incurred']\n",
    "triangle"
   ]
  },
  {
   "cell_type": "markdown",
   "metadata": {},
   "source": [
    "`load_template` will generate an Excel template object to which you can pass data.  We will be using the 'triangle' template which requires (at a minimum) a `Triangle` object that is a single index/column representation."
   ]
  },
  {
   "cell_type": "raw",
   "metadata": {},
   "source": [
    ".. note::\n",
    "   Excel files do not render as notebooks. The Excel files generated by these examples have been included as images for the purposes of the tutorial only.  You will have to jump into Excel to view your own output."
   ]
  },
  {
   "cell_type": "markdown",
   "metadata": {},
   "source": [
    "In this example, our template is given one object, out `Triangle`.  From the one Triangle, we can infer a lot of information that we can represent in our exhibit."
   ]
  },
  {
   "cell_type": "code",
   "execution_count": 3,
   "metadata": {},
   "outputs": [],
   "source": [
    "cl.load_template('triangle', triangle=triangle).to_excel('example.xlsx')"
   ]
  },
  {
   "cell_type": "markdown",
   "metadata": {},
   "source": [
    "![](https://raw.githubusercontent.com/casact/chainladder-python/master/docs/tutorials/ex1.PNG)"
   ]
  },
  {
   "cell_type": "markdown",
   "metadata": {},
   "source": [
    "Note also that loading the template creates an `xlcompose` object, but it does not actually create an Excel file.  To do that, you must call the `to_excel` method on the object.\n",
    "\n",
    "If we transform our triangle by a `Development` estimator, let's see how the same template acknowledges this additional information."
   ]
  },
  {
   "cell_type": "code",
   "execution_count": 4,
   "metadata": {},
   "outputs": [],
   "source": [
    "cl.load_template(\n",
    "    template='triangle',\n",
    "    triangle=cl.Development().fit_transform(triangle)\n",
    ").to_excel('example.xlsx')"
   ]
  },
  {
   "cell_type": "markdown",
   "metadata": {},
   "source": [
    "![](https://raw.githubusercontent.com/casact/chainladder-python/master/docs/tutorials/ex2.PNG)"
   ]
  },
  {
   "cell_type": "markdown",
   "metadata": {},
   "source": [
    "Anyone can examine the YAML template to see what options are available.  Let's explore all available options in out 'triangle' template."
   ]
  },
  {
   "cell_type": "code",
   "execution_count": 5,
   "metadata": {},
   "outputs": [],
   "source": [
    "cl.load_template(\n",
    "    template='triangle',\n",
    "    triangle=cl.Development().fit_transform(triangle),\n",
    "    scenarios={'Simple (All)': cl.Development(average='simple'),\n",
    "               'Volume (All)': cl.Development(),\n",
    "               'Volume (5Yr)': cl.Development(n_periods=5),\n",
    "               'Volume (3Yr)': cl.Development(n_periods=3)},\n",
    "    triangle_name = 'US Auto Industry',\n",
    "    sheet_name='US Auto',\n",
    "    set_header=['&RExhbit 1', 'Sheet 1'],\n",
    "    index_label='Accident Year'\n",
    ").to_excel('example.xlsx')"
   ]
  },
  {
   "cell_type": "markdown",
   "metadata": {},
   "source": [
    "![](https://raw.githubusercontent.com/casact/chainladder-python/master/docs/tutorials/ex3.PNG)"
   ]
  },
  {
   "cell_type": "markdown",
   "metadata": {},
   "source": [
    "By using `xlcompose` for rendering spreadsheets, you do not need to concern yourself with the shapes of your triangles.  The Excel template dynamically resizes to smaller or larger triangles.  Let's try the same template on a smaller triangle."
   ]
  },
  {
   "cell_type": "code",
   "execution_count": 6,
   "metadata": {},
   "outputs": [],
   "source": [
    "triangle = cl.load_sample('ukmotor')"
   ]
  },
  {
   "cell_type": "code",
   "execution_count": 7,
   "metadata": {},
   "outputs": [],
   "source": [
    "cl.load_template(\n",
    "    template='triangle',\n",
    "    triangle=cl.Development(average=['volume']*3+['simple']*3).fit_transform(triangle),\n",
    "    scenarios={'Simple (All)': cl.Development(average='simple'),\n",
    "               'Volume (All)': cl.Development(),\n",
    "               'Volume (5Yr)': cl.Development(n_periods=5),\n",
    "               'Volume (3Yr)': cl.Development(n_periods=3)},\n",
    "    triangle_name = 'UK Motor',\n",
    "    sheet_name='Motor',\n",
    "    set_header=['&RExhbit 1', 'Sheet 1'],\n",
    "    index_label='Accident Year'\n",
    ").to_excel('example.xlsx')"
   ]
  },
  {
   "cell_type": "markdown",
   "metadata": {},
   "source": [
    "![](https://raw.githubusercontent.com/casact/chainladder-python/master/docs/tutorials/ex4.PNG)"
   ]
  },
  {
   "cell_type": "code",
   "execution_count": null,
   "metadata": {},
   "outputs": [],
   "source": []
  }
 ],
 "metadata": {
  "hide_input": false,
  "kernel_info": {
   "name": "python3"
  },
  "kernelspec": {
   "display_name": "Python 3",
   "language": "python",
   "name": "python3"
  },
  "language_info": {
   "codemirror_mode": {
    "name": "ipython",
    "version": 3
   },
   "file_extension": ".py",
   "mimetype": "text/x-python",
   "name": "python",
   "nbconvert_exporter": "python",
   "pygments_lexer": "ipython3",
   "version": "3.6.3"
  },
  "nteract": {
   "version": "0.12.3"
  },
  "toc": {
   "base_numbering": 1,
   "nav_menu": {},
   "number_sections": true,
   "sideBar": true,
   "skip_h1_title": false,
   "title_cell": "Table of Contents",
   "title_sidebar": "Contents",
   "toc_cell": false,
   "toc_position": {},
   "toc_section_display": true,
   "toc_window_display": false
  },
  "varInspector": {
   "cols": {
    "lenName": 16,
    "lenType": 16,
    "lenVar": 40
   },
   "kernels_config": {
    "python": {
     "delete_cmd_postfix": "",
     "delete_cmd_prefix": "del ",
     "library": "var_list.py",
     "varRefreshCmd": "print(var_dic_list())"
    },
    "r": {
     "delete_cmd_postfix": ") ",
     "delete_cmd_prefix": "rm(",
     "library": "var_list.r",
     "varRefreshCmd": "cat(var_dic_list()) "
    }
   },
   "types_to_exclude": [
    "module",
    "function",
    "builtin_function_or_method",
    "instance",
    "_Feature"
   ],
   "window_display": false
  }
 },
 "nbformat": 4,
 "nbformat_minor": 4
}
