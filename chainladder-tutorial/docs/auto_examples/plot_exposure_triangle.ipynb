{
  "cells": [
    {
      "cell_type": "code",
      "execution_count": null,
      "metadata": {
        "collapsed": false
      },
      "outputs": [],
      "source": [
        "%matplotlib inline"
      ]
    },
    {
      "cell_type": "markdown",
      "metadata": {},
      "source": [
        "\n# Exposure Triangle\n\n\nAlthough triangles have both origin and development attributes, it is often\nconvenient to create premium or exposure vectors that can work with loss\ntriangles.  The `Triangle` class treats the development parameter as\noptional. This example instantiates a 'premium' triangle as a single vector.\n\n"
      ]
    },
    {
      "cell_type": "code",
      "execution_count": null,
      "metadata": {
        "collapsed": false
      },
      "outputs": [],
      "source": [
        "import chainladder as cl\nimport pandas as pd\n\nimport chainladder as cl\n\n# Raw premium data in pandas\npremium_df = pd.DataFrame(\n    {'AccYear':[item for item in range(1977, 1988)],\n     'premium': [3000000]*11})\n\n# Create a premium 'triangle' with no development\npremium = cl.Triangle(premium_df, origin='AccYear', columns='premium')\n\n# Create some loss triangle\nloss = cl.load_sample('abc')\nultimate = cl.Chainladder().fit(loss).ultimate_\n\n# Plot\n(ultimate / premium).plot(\n    kind='area', title='Loss Ratio by Accident Year',\n    alpha=0.7, color='darkgreen', legend=False, grid=True).set(\n    xlabel='Accident Year', ylabel='Loss Ratio');"
      ]
    }
  ],
  "metadata": {
    "kernelspec": {
      "display_name": "Python 3",
      "language": "python",
      "name": "python3"
    },
    "language_info": {
      "codemirror_mode": {
        "name": "ipython",
        "version": 3
      },
      "file_extension": ".py",
      "mimetype": "text/x-python",
      "name": "python",
      "nbconvert_exporter": "python",
      "pygments_lexer": "ipython3",
      "version": "3.6.3"
    }
  },
  "nbformat": 4,
  "nbformat_minor": 0
}