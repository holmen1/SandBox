{
  "cells": [
    {
      "cell_type": "code",
      "execution_count": null,
      "metadata": {
        "collapsed": false
      },
      "outputs": [],
      "source": [
        "%matplotlib inline"
      ]
    },
    {
      "cell_type": "markdown",
      "metadata": {},
      "source": [
        "\n# Berquist Sherman Case Reserve Adjustment\n\n\nThis example demonstrates the adjustment to case reserves using the Berquist-Sherman\nmethod. A key assumption, and highly sensitive one at that, is the selection of\na trend factor representative of the trend in average open case reserves from\nyear to year.\n\n"
      ]
    },
    {
      "cell_type": "code",
      "execution_count": null,
      "metadata": {
        "collapsed": false
      },
      "outputs": [],
      "source": [
        "import chainladder as cl\n\n# Load data\ntriangle = cl.load_sample('berqsherm').loc['MedMal']\n\n# Specify Berquist-Sherman model\nberq = cl.BerquistSherman(\n    paid_amount='Paid', incurred_amount='Incurred',\n    reported_count='Reported', closed_count='Closed',\n    trend=0.15)\n\n# Adjust our triangle data\nberq_triangle = berq.fit_transform(triangle)\nberq_cdf = cl.Development().fit(berq_triangle['Incurred']).cdf_\norig_cdf = cl.Development().fit(triangle['Incurred']).cdf_\n\n# Plot the results\n(berq_cdf / orig_cdf).T.plot(\n    kind='bar', grid=True, legend=False,\n    title='Berquist Sherman CDF to Unadjusted CDF').set(\n    xlabel='Age to Ultimate', ylabel='Case Incurred CDF Adjustment');"
      ]
    }
  ],
  "metadata": {
    "kernelspec": {
      "display_name": "Python 3",
      "language": "python",
      "name": "python3"
    },
    "language_info": {
      "codemirror_mode": {
        "name": "ipython",
        "version": 3
      },
      "file_extension": ".py",
      "mimetype": "text/x-python",
      "name": "python",
      "nbconvert_exporter": "python",
      "pygments_lexer": "ipython3",
      "version": "3.6.3"
    }
  },
  "nbformat": 4,
  "nbformat_minor": 0
}