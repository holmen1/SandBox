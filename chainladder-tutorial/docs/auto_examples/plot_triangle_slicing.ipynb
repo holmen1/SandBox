{
  "cells": [
    {
      "cell_type": "code",
      "execution_count": null,
      "metadata": {
        "collapsed": false
      },
      "outputs": [],
      "source": [
        "%matplotlib inline"
      ]
    },
    {
      "cell_type": "markdown",
      "metadata": {},
      "source": [
        "\n# Pandas-style slicing of Triangle\n\n\nThis example demonstrates the familiarity of the pandas API applied to a\n:class:`Triangle` instance.\n\n\n"
      ]
    },
    {
      "cell_type": "code",
      "execution_count": null,
      "metadata": {
        "collapsed": false
      },
      "outputs": [],
      "source": [
        "import chainladder as cl\n\n# The base Triangle Class:\ncl.Triangle\n\n# Load data\nclrd = cl.load_sample('clrd')\n# pandas-style Aggregations\nclrd = clrd.groupby('LOB').sum()\n# pandas-style value/column slicing\nclrd = clrd['CumPaidLoss']\n# pandas loc-style index slicing\nclrd = clrd.loc['medmal']\n\n# Plot\ng = clrd.link_ratio.plot(\n    marker='o', grid=True,\n    title='Medical Malpractice Link Ratios').set(\n    ylabel='Link Ratio', xlabel='Accident Year');"
      ]
    }
  ],
  "metadata": {
    "kernelspec": {
      "display_name": "Python 3",
      "language": "python",
      "name": "python3"
    },
    "language_info": {
      "codemirror_mode": {
        "name": "ipython",
        "version": 3
      },
      "file_extension": ".py",
      "mimetype": "text/x-python",
      "name": "python",
      "nbconvert_exporter": "python",
      "pygments_lexer": "ipython3",
      "version": "3.6.3"
    }
  },
  "nbformat": 4,
  "nbformat_minor": 0
}