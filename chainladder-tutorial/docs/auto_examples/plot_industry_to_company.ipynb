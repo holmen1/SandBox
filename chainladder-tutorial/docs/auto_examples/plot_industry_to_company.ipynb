{
  "cells": [
    {
      "cell_type": "code",
      "execution_count": null,
      "metadata": {
        "collapsed": false
      },
      "outputs": [],
      "source": [
        "%matplotlib inline"
      ]
    },
    {
      "cell_type": "markdown",
      "metadata": {},
      "source": [
        "\n# Using Industry Patterns on a Company\n\n\nThis example demonstrates how you can create development patterns at a\nparticular ``index`` grain and apply them to another.\n\n"
      ]
    },
    {
      "cell_type": "code",
      "execution_count": null,
      "metadata": {
        "collapsed": false
      },
      "outputs": [],
      "source": [
        "import chainladder as cl\n\nclrd = cl.load_sample('clrd')['CumPaidLoss']\nclrd = clrd[clrd['LOB'] == 'wkcomp']\n\nindustry = clrd.sum()\nallstate_industry_cl = cl.Chainladder().fit(industry).predict(clrd.loc['Allstate Ins Co Grp']).ultimate_\nallstate_company_cl = cl.Chainladder().fit(clrd.loc['Allstate Ins Co Grp']).ultimate_\ndiff = (allstate_industry_cl - allstate_company_cl)\n\nprint(diff.rename('development',['Industry to Company LDF Diff']))"
      ]
    }
  ],
  "metadata": {
    "kernelspec": {
      "display_name": "Python 3",
      "language": "python",
      "name": "python3"
    },
    "language_info": {
      "codemirror_mode": {
        "name": "ipython",
        "version": 3
      },
      "file_extension": ".py",
      "mimetype": "text/x-python",
      "name": "python",
      "nbconvert_exporter": "python",
      "pygments_lexer": "ipython3",
      "version": "3.6.3"
    }
  },
  "nbformat": 4,
  "nbformat_minor": 0
}