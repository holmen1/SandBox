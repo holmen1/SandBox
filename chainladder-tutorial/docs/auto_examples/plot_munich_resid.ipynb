{
  "cells": [
    {
      "cell_type": "code",
      "execution_count": null,
      "metadata": {
        "collapsed": false
      },
      "outputs": [],
      "source": [
        "%matplotlib inline"
      ]
    },
    {
      "cell_type": "markdown",
      "metadata": {},
      "source": [
        "\n# Munich Chainladder Correlation Plots\n\n\nThis example demonstrates how to recreate the the residual correlation plots\nof the Munich Chainladder paper.\n\n"
      ]
    },
    {
      "cell_type": "code",
      "execution_count": null,
      "metadata": {
        "collapsed": false
      },
      "outputs": [],
      "source": [
        "import chainladder as cl\nimport pandas as pd\nimport numpy as np\nimport matplotlib.pyplot as plt\n\n# Fit Munich Model\nmcl = cl.load_sample('mcl')\nmodel = cl.MunichAdjustment([('paid', 'incurred')]).fit(mcl)\n\n# Plot Data\nfig, ((ax0, ax1)) = plt.subplots(ncols=2, figsize=(15,5))\n\n# Paid lambda line\npd.DataFrame(\n    {'(P/I)': np.linspace(-2,2,2),\n     'P': np.linspace(-2,2,2)*model.lambda_.loc['paid']}).plot(\n    x='(P/I)', y='P', legend=False, ax=ax0)\n\n# Paid scatter\npaid_plot = pd.concat(\n    (model.resids_['paid'].melt(value_name='P')['P'],\n     model.q_resids_['paid'].melt(value_name='(P/I)')['(P/I)']),\n    axis=1).plot(\n        kind='scatter', y='P', x='(P/I)', ax=ax0,\n        xlim=(-2,2), ylim=(-2,2), grid=True, title='Paid')\n\n# Incurred lambda line\ninc_lambda = pd.DataFrame(\n    {'(I/P)': np.linspace(-2,2,2),\n     'I': np.linspace(-2,2,2)*model.lambda_.loc['incurred']})\ninc_lambda.plot(x='(I/P)', y='I', ax=ax1, legend=False);\n\n# Incurred scatter\nincurred_plot = pd.concat(\n    (model.resids_['incurred'].melt(value_name='I')['I'],\n     model.q_resids_['incurred'].melt(value_name='(I/P)')['(I/P)']),\n    axis=1).plot(\n        kind='scatter', y='I', x='(I/P)', ax=ax1,\n        xlim=(-2,2), ylim=(-2,2), grid=True, title='Incurred');\nfig.suptitle(\"Munich Chainladder Residual Correlations\");"
      ]
    }
  ],
  "metadata": {
    "kernelspec": {
      "display_name": "Python 3",
      "language": "python",
      "name": "python3"
    },
    "language_info": {
      "codemirror_mode": {
        "name": "ipython",
        "version": 3
      },
      "file_extension": ".py",
      "mimetype": "text/x-python",
      "name": "python",
      "nbconvert_exporter": "python",
      "pygments_lexer": "ipython3",
      "version": "3.6.3"
    }
  },
  "nbformat": 4,
  "nbformat_minor": 0
}