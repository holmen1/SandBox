{
  "cells": [
    {
      "cell_type": "code",
      "execution_count": null,
      "metadata": {
        "collapsed": false
      },
      "outputs": [],
      "source": [
        "%matplotlib inline"
      ]
    },
    {
      "cell_type": "markdown",
      "metadata": {},
      "source": [
        "\n# Sample Excel Exhibit functionality\n\n\nThis example demonstrates some of the flexibility of the Excel outputs. It\ncreates an Excel file called 'clrd.xlsx' that includes various statistics on\nindustry development patterns for each line of business in the CAS loss reserve\ndatabase.\n\nOutput can be viewed online in `Google Sheets <https://docs.google.com/spreadsheets/d/1fwHK1Sys6aHDhEhFO6stVJtmZVKEcXXBsmJLSLIBLJY/edit#gid=1190415861>`_.\n\nSee `Exhibits<exhibits>` for more detail.\n\n\n"
      ]
    },
    {
      "cell_type": "code",
      "execution_count": null,
      "metadata": {
        "collapsed": false
      },
      "outputs": [],
      "source": [
        "import chainladder as cl\nimport pandas as pd\n\nclrd = cl.load_sample('clrd').groupby('LOB').sum()['CumPaidLoss']\n\n# Line of Business Dictionary for looping\nlobs = dict(comauto='Commercial Auto',\n            medmal='Medical Malpractice',\n            othliab='Other Liability',\n            ppauto='Private Passenger Auto',\n            prodliab='Product Liability',\n            wkcomp='Workers\\' Compensation')\n\n\nsheets = []\n\nfor lob_abb, lob in lobs.items():\n    # Sample LDFs into a pandas dataframe\n    ldfs = pd.concat((\n        cl.Development(n_periods=2).fit(clrd.loc[lob_abb]).ldf_.to_frame(),\n        cl.Development(n_periods=3).fit(clrd.loc[lob_abb]).ldf_.to_frame(),\n        cl.Development(n_periods=7).fit(clrd.loc[lob_abb]).ldf_.to_frame(),\n        cl.Development(n_periods=10).fit(clrd.loc[lob_abb]).ldf_.to_frame(),\n        cl.Development().fit(clrd.loc[lob_abb]).ldf_.to_frame()))\n    ldfs.index = ['2 Yr Wtd', '3 Yr Wtd', '7 Yr Wtd', '10 Yr Wtd', 'Selected']\n\n    # Excel exhibit\n    sheets.append(\n        (lob,\n         # Layout individual sheet vertically (i.e. Column)\n         cl.Column(\n             cl.Title(['CAS Loss Reserve Database', lob, 'Cumulative Paid Loss',\n                        'Evaluated as of December 31, 1997']),\n             cl.DataFrame(clrd.loc[lob_abb], index_label='Accident Year',\n                           formats={'num_format': '#,#', 'align': 'center'}),\n             cl.CSpacer(),\n             cl.DataFrame(clrd.loc[lob_abb].link_ratio, index_label='Accident Year',\n                           formats={'num_format': '0.000', 'align': 'center'}),\n             cl.CSpacer(),\n             cl.DataFrame(ldfs, index_label='Averages',\n                           formats={'num_format': '0.000', 'align': 'center'})\n         )))\n\n# Output to excel\ncl.Tabs(*sheets).to_excel('clrd.xlsx')"
      ]
    }
  ],
  "metadata": {
    "kernelspec": {
      "display_name": "Python 3",
      "language": "python",
      "name": "python3"
    },
    "language_info": {
      "codemirror_mode": {
        "name": "ipython",
        "version": 3
      },
      "file_extension": ".py",
      "mimetype": "text/x-python",
      "name": "python",
      "nbconvert_exporter": "python",
      "pygments_lexer": "ipython3",
      "version": "3.6.3"
    }
  },
  "nbformat": 4,
  "nbformat_minor": 0
}