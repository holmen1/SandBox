{
  "cells": [
    {
      "cell_type": "code",
      "execution_count": null,
      "metadata": {
        "collapsed": false
      },
      "outputs": [],
      "source": [
        "%matplotlib inline"
      ]
    },
    {
      "cell_type": "markdown",
      "metadata": {},
      "source": [
        "\n# Basic Triangle Creation\n\n\nThis example demonstrates the typical way you'd ingest data into a Triangle.\nData in tabular form in a pandas DataFrame is required.  At a minimum, columns\nspecifying origin and development, and a value must be present.  Note, you can\ninclude more than one column as a list as well as any number of indices for\ncreating triangle subgroups.\n\nIn this example, we create a triangle object with triangles for each company\nin the CAS Loss Reserve Database for Workers' Compensation.\n\n"
      ]
    },
    {
      "cell_type": "code",
      "execution_count": null,
      "metadata": {
        "collapsed": false
      },
      "outputs": [],
      "source": [
        "import chainladder as cl\nimport pandas as pd\n\n# Read in the data\nlobs = 'wkcomp'\ndata = pd.read_csv(r'https://www.casact.org/research/reserve_data/wkcomp_pos.csv')\ndata = data[data['DevelopmentYear']<=1997]\n\n# Create a triangle\ntriangle = cl.Triangle(\n    data, origin='AccidentYear', development='DevelopmentYear',\n    index=['GRNAME'], columns=['IncurLoss_D','CumPaidLoss_D','EarnedPremDIR_D'])\n\n# Output\nprint('Raw data:')\nprint(data.head())\nprint()\nprint('Triangle summary:')\nprint(triangle)\nprint()\nprint('Aggregate Paid Triangle:')\nprint(triangle['CumPaidLoss_D'].sum())\n\n# Plot data\ntriangle['CumPaidLoss_D'].sum().T.plot(\n    marker='.', grid=True,\n    title='CAS Loss Reserve Database: Workers Compensation').set(\n    xlabel='Development Period', ylabel='Cumulative Paid Loss');"
      ]
    }
  ],
  "metadata": {
    "kernelspec": {
      "display_name": "Python 3",
      "language": "python",
      "name": "python3"
    },
    "language_info": {
      "codemirror_mode": {
        "name": "ipython",
        "version": 3
      },
      "file_extension": ".py",
      "mimetype": "text/x-python",
      "name": "python",
      "nbconvert_exporter": "python",
      "pygments_lexer": "ipython3",
      "version": "3.6.3"
    }
  },
  "nbformat": 4,
  "nbformat_minor": 0
}