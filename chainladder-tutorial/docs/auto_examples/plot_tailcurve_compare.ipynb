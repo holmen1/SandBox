{
  "cells": [
    {
      "cell_type": "code",
      "execution_count": null,
      "metadata": {
        "collapsed": false
      },
      "outputs": [],
      "source": [
        "%matplotlib inline"
      ]
    },
    {
      "cell_type": "markdown",
      "metadata": {},
      "source": [
        "\n# Tail Curve Fit Comparison\n\n\nThis example demonstrates how the ``inverse_power`` curve generally produces more\nconservative tail factors than the ``exponential`` fit.\n\n"
      ]
    },
    {
      "cell_type": "code",
      "execution_count": null,
      "metadata": {
        "collapsed": false
      },
      "outputs": [],
      "source": [
        "import chainladder as cl\nimport pandas as pd\n\nclrd = cl.load_sample('clrd').groupby('LOB').sum()['CumPaidLoss']\ncdf_ip = cl.TailCurve(curve='inverse_power').fit(clrd)\ncdf_xp = cl.TailCurve(curve='exponential').fit(clrd)\n\npd.concat((cdf_ip.tail_.rename(\"Inverse Power\"),\n           cdf_xp.tail_.rename(\"Exponential\")), axis=1).plot(\n        kind='bar', grid=True, title='Curve Fit Comparison').set(\n        xlabel='Industry', ylabel='Tail Factor');"
      ]
    }
  ],
  "metadata": {
    "kernelspec": {
      "display_name": "Python 3",
      "language": "python",
      "name": "python3"
    },
    "language_info": {
      "codemirror_mode": {
        "name": "ipython",
        "version": 3
      },
      "file_extension": ".py",
      "mimetype": "text/x-python",
      "name": "python",
      "nbconvert_exporter": "python",
      "pygments_lexer": "ipython3",
      "version": "3.6.3"
    }
  },
  "nbformat": 4,
  "nbformat_minor": 0
}