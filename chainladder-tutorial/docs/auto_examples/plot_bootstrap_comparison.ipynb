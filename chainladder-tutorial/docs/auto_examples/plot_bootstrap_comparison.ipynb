{
  "cells": [
    {
      "cell_type": "code",
      "execution_count": null,
      "metadata": {
        "collapsed": false
      },
      "outputs": [],
      "source": [
        "%matplotlib inline"
      ]
    },
    {
      "cell_type": "markdown",
      "metadata": {},
      "source": [
        "\n# ODP Bootstrap Comparison\n\n\nThis example demonstrates how you can drop the outlier link ratios from the\nBootstrapODPSample to reduce reserve variability estimates.\n\n\n"
      ]
    },
    {
      "cell_type": "code",
      "execution_count": null,
      "metadata": {
        "collapsed": false
      },
      "outputs": [],
      "source": [
        "import chainladder as cl\n\n# Load triangle\ntriangle = cl.load_sample('raa')\n\n# Use bootstrap sampler to get resampled triangles\ns1 = cl.BootstrapODPSample(\n    n_sims=5000, random_state=42).fit(triangle).resampled_triangles_\n\n## Alternatively use fit_transform() to access resampled triangles dropping\n#  outlier link-ratios from resampler\ns2 = cl.BootstrapODPSample(\n    drop_high=True, drop_low=True,\n    n_sims=5000, random_state=42).fit_transform(triangle)\n\n# Summarize results of first model\nresults = cl.Chainladder().fit(s1).ibnr_.sum('origin').rename('columns', ['Original'])\n# Add another column to triangle with second set of results.\nresults['Dropped'] = cl.Chainladder().fit(s2).ibnr_.sum('origin')\n\n# Plot both IBNR distributions\nresults.to_frame().plot(kind='hist', bins=50, alpha=0.5, grid=True).set(\n    xlabel='Ultimate')"
      ]
    }
  ],
  "metadata": {
    "kernelspec": {
      "display_name": "Python 3",
      "language": "python",
      "name": "python3"
    },
    "language_info": {
      "codemirror_mode": {
        "name": "ipython",
        "version": 3
      },
      "file_extension": ".py",
      "mimetype": "text/x-python",
      "name": "python",
      "nbconvert_exporter": "python",
      "pygments_lexer": "ipython3",
      "version": "3.6.3"
    }
  },
  "nbformat": 4,
  "nbformat_minor": 0
}