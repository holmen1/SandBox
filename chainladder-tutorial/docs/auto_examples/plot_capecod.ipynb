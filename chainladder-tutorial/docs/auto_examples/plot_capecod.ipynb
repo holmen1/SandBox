{
  "cells": [
    {
      "cell_type": "code",
      "execution_count": null,
      "metadata": {
        "collapsed": false
      },
      "outputs": [],
      "source": [
        "%matplotlib inline"
      ]
    },
    {
      "cell_type": "markdown",
      "metadata": {},
      "source": [
        "\n# Analyzing Cape Cod Apriori Sensitivity\n\n\nThis example demonstrates the usage of the deterministic CapeCod method and\nshows the sensitivity of the apriori expectation to various choices of ``trend``\nand ``decay``.\n\n"
      ]
    },
    {
      "cell_type": "code",
      "execution_count": null,
      "metadata": {
        "collapsed": false
      },
      "outputs": [],
      "source": [
        "import chainladder as cl\nimport matplotlib.pyplot as plt\n\n# Grab data\nppauto_loss = cl.load_sample('clrd').groupby('LOB').sum().loc['ppauto', 'CumPaidLoss']\nppauto_prem = cl.load_sample('clrd').groupby('LOB').sum() \\\n                .loc['ppauto']['EarnedPremDIR'].latest_diagonal\n\ndef get_apriori(decay, trend):\n    \"\"\" Function to grab apriori array from cape cod method \"\"\"\n    cc = cl.CapeCod(decay=decay, trend=trend)\n    cc.fit(ppauto_loss, sample_weight=ppauto_prem)\n    return cc.detrended_apriori_.to_frame()\n\ndef get_plot_data(trend):\n    \"\"\" Function to grab plot data \"\"\"\n    # Initial apriori DataFrame\n    detrended_aprioris = get_apriori(0,trend)\n    detrended_aprioris.columns=['decay: 0%']\n\n    # Add columns to apriori DataFrame\n    for item in [25, 50, 75, 100]:\n        detrended_aprioris[f'decay: {item}%'] = get_apriori(item/100, trend)\n    return detrended_aprioris\n\n# Plot Data\nfig, ((ax00, ax01), (ax10, ax11)) = plt.subplots(\n    ncols=2, nrows=2, sharex=True, figsize=(10,10))\nget_plot_data(-0.05).plot(ax=ax00, grid=True, title='Trend: -5%')\nget_plot_data(-.025).plot(ax=ax01, grid=True, title='Trend: -2.5%')\nget_plot_data(0).plot(ax=ax10, grid=True, title='Trend: 0.0%')\nget_plot_data(0.025).plot(ax=ax11, grid=True, title='Trend: 2.5%')\nfig.suptitle(\"Private Passenger Auto Cape Cod Detrended Aprioris\");"
      ]
    }
  ],
  "metadata": {
    "kernelspec": {
      "display_name": "Python 3",
      "language": "python",
      "name": "python3"
    },
    "language_info": {
      "codemirror_mode": {
        "name": "ipython",
        "version": 3
      },
      "file_extension": ".py",
      "mimetype": "text/x-python",
      "name": "python",
      "nbconvert_exporter": "python",
      "pygments_lexer": "ipython3",
      "version": "3.6.3"
    }
  },
  "nbformat": 4,
  "nbformat_minor": 0
}