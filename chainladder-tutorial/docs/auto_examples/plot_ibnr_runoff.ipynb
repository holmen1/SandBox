{
  "cells": [
    {
      "cell_type": "code",
      "execution_count": null,
      "metadata": {
        "collapsed": false
      },
      "outputs": [],
      "source": [
        "%matplotlib inline"
      ]
    },
    {
      "cell_type": "markdown",
      "metadata": {},
      "source": [
        "\n# IBNR Runoff\n\n\nAll IBNR models spin off several results triangles including `inbr_`,\n`ultimate_`, `full_expectation`, and `full_triangle_`.  These can be\nmanipulated into a variety of formats. This example demonstrates how to\ncreate a calendar year runoff of IBNR.\n\n"
      ]
    },
    {
      "cell_type": "code",
      "execution_count": null,
      "metadata": {
        "collapsed": false
      },
      "outputs": [],
      "source": [
        "import chainladder as cl\n\n# Create a triangle\ntriangle = cl.load_sample('GenIns')\n\n# Fit a model\nmodel = cl.Chainladder().fit(triangle)\n\n# Develop IBNR runoff triangle\nrunoff = (model.full_triangle_.cum_to_incr() - triangle.cum_to_incr())\n\n# Convert to calendar period and aggregate across all accident years\ncal_yr_runoff = runoff[runoff.valuation>triangle.valuation_date].dev_to_val().sum(axis='origin')\n\n# Plot results\ncal_yr_runoff.dropna().T.plot(\n    kind='bar', legend=False, color='red', grid=True,\n    title='GenIns: IBNR Run-off', alpha=0.7).set(\n    xlabel='Calendar Year', ylabel='IBNR');"
      ]
    }
  ],
  "metadata": {
    "kernelspec": {
      "display_name": "Python 3",
      "language": "python",
      "name": "python3"
    },
    "language_info": {
      "codemirror_mode": {
        "name": "ipython",
        "version": 3
      },
      "file_extension": ".py",
      "mimetype": "text/x-python",
      "name": "python",
      "nbconvert_exporter": "python",
      "pygments_lexer": "ipython3",
      "version": "3.6.3"
    }
  },
  "nbformat": 4,
  "nbformat_minor": 0
}