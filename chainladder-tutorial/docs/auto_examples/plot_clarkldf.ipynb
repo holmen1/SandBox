{
  "cells": [
    {
      "cell_type": "code",
      "execution_count": null,
      "metadata": {
        "collapsed": false
      },
      "outputs": [],
      "source": [
        "%matplotlib inline"
      ]
    },
    {
      "cell_type": "markdown",
      "metadata": {},
      "source": [
        "\n# Clark Growth Curves\n\n\nThis example demonstrates one of the attributes of the `ClarkLDF`. We can\nuse the growth curve `G_` to estimate the percent of ultimate at any given\nage.   \n\n"
      ]
    },
    {
      "cell_type": "code",
      "execution_count": null,
      "metadata": {
        "collapsed": false
      },
      "outputs": [],
      "source": [
        "import chainladder as cl\nimport numpy as np\n\n# Grab Industry triangles\nclrd = cl.load_sample('clrd').groupby('LOB').sum()\n\n# Fit Clark Cape Cod method\nmodel = cl.ClarkLDF(growth='loglogistic').fit(\n    clrd['CumPaidLoss'],\n    sample_weight=clrd['EarnedPremDIR'].latest_diagonal)\n\n# sample ages\nages = np.linspace(1, 300, 30)\n\n# Plot results\nmodel.G_(ages).T.plot(\n    title='Loglogistic Growth Curves', grid=True).set(\n    xlabel='Age', ylabel='% of Ultimate');"
      ]
    }
  ],
  "metadata": {
    "kernelspec": {
      "display_name": "Python 3",
      "language": "python",
      "name": "python3"
    },
    "language_info": {
      "codemirror_mode": {
        "name": "ipython",
        "version": 3
      },
      "file_extension": ".py",
      "mimetype": "text/x-python",
      "name": "python",
      "nbconvert_exporter": "python",
      "pygments_lexer": "ipython3",
      "version": "3.6.3"
    }
  },
  "nbformat": 4,
  "nbformat_minor": 0
}