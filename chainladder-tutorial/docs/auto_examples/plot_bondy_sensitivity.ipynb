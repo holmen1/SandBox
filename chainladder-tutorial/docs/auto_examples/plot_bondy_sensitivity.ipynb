{
  "cells": [
    {
      "cell_type": "code",
      "execution_count": null,
      "metadata": {
        "collapsed": false
      },
      "outputs": [],
      "source": [
        "%matplotlib inline"
      ]
    },
    {
      "cell_type": "markdown",
      "metadata": {},
      "source": [
        "\n# Testing Sensitivity of Bondy Tail Assumptions\n\n\nThis example demonstrates the usage of the `TailBondy` estimator as well as\npassing multiple scoring functions to `GridSearch`.  When the `earliest_age`\nis set to the last available in the Triangle, the estimator reverts to the\ntraditional Bondy method.\n\n"
      ]
    },
    {
      "cell_type": "code",
      "execution_count": null,
      "metadata": {
        "collapsed": false
      },
      "outputs": [],
      "source": [
        "import chainladder as cl\n\n# Fit basic development to a triangle\ntri = cl.load_sample('tail_sample')['paid']\ndev = cl.Development(average='simple').fit_transform(tri)\n\n# Return both the tail factor and the Bondy exponent in the scoring function\nscoring = {\n    'tail_factor': lambda x: x.tail_.values[0,0],\n    'bondy_exponent': lambda x : x.b_.values[0,0]}\n\n# Vary the 'earliest_age' assumption in GridSearch\nparam_grid=dict(earliest_age=list(range(12, 120, 12)))\ngrid = cl.GridSearch(cl.TailBondy(), param_grid, scoring)\nresults = grid.fit(dev).results_\n\nax = results.plot(x='earliest_age', y='bondy_exponent',\n                  title='Bondy Assumption Sensitivity', marker='o')\nresults.plot(x='earliest_age', y='tail_factor', grid=True,\n             secondary_y=True, ax=ax, marker='o');"
      ]
    }
  ],
  "metadata": {
    "kernelspec": {
      "display_name": "Python 3",
      "language": "python",
      "name": "python3"
    },
    "language_info": {
      "codemirror_mode": {
        "name": "ipython",
        "version": 3
      },
      "file_extension": ".py",
      "mimetype": "text/x-python",
      "name": "python",
      "nbconvert_exporter": "python",
      "pygments_lexer": "ipython3",
      "version": "3.6.3"
    }
  },
  "nbformat": 4,
  "nbformat_minor": 0
}