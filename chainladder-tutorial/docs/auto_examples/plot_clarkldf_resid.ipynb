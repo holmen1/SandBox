{
  "cells": [
    {
      "cell_type": "code",
      "execution_count": null,
      "metadata": {
        "collapsed": false
      },
      "outputs": [],
      "source": [
        "%matplotlib inline"
      ]
    },
    {
      "cell_type": "markdown",
      "metadata": {},
      "source": [
        "\n# Clark Residual Plots\n\n\nThis example demonstrates how to recreate the normalized residual plots in\nClarks LDF Curve-Fitting paper (2003).\n\n"
      ]
    },
    {
      "cell_type": "code",
      "execution_count": null,
      "metadata": {
        "collapsed": false
      },
      "outputs": [],
      "source": [
        "import chainladder as cl\nimport matplotlib.pyplot as plt\n\n# Fit the basic model\ngenins = cl.load_sample('genins')\ngenins = cl.ClarkLDF().fit(genins)\n\n# Grab Normalized Residuals as a DataFrame\nnorm_resid = genins.norm_resid_.melt(\n    var_name='Development Age',\n    value_name='Normalized Residual').dropna()\n\n# Grab Fitted Incremental values as a DataFrame\nincremental_fits = genins.incremental_fits_.melt(\n    var_name='Development Age',\n    value_name='Expected Incremental Loss').dropna()\n\n# Plot the residuals vs Age and vs Expected Incrementals\nfig, ((ax0, ax1)) = plt.subplots(ncols=2, figsize=(15,5))\n# Left plot\nnorm_resid.plot(\n    x='Development Age', y='Normalized Residual',\n    kind='scatter', grid=True, ylim=(-4, 4), ax=ax0)\n# Right plot\nincremental_fits.merge(\n    norm_resid, how='inner', left_index=True, right_index=True).plot(\n    x='Expected Incremental Loss', y='Normalized Residual',\n    kind='scatter', grid=True, ylim=(-4, 4), ax=ax1)\nfig.suptitle(\"Clark LDF Normalized Residual Plots\");"
      ]
    }
  ],
  "metadata": {
    "kernelspec": {
      "display_name": "Python 3",
      "language": "python",
      "name": "python3"
    },
    "language_info": {
      "codemirror_mode": {
        "name": "ipython",
        "version": 3
      },
      "file_extension": ".py",
      "mimetype": "text/x-python",
      "name": "python",
      "nbconvert_exporter": "python",
      "pygments_lexer": "ipython3",
      "version": "3.6.3"
    }
  },
  "nbformat": 4,
  "nbformat_minor": 0
}