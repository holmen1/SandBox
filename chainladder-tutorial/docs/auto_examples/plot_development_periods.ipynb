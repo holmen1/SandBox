{
  "cells": [
    {
      "cell_type": "code",
      "execution_count": null,
      "metadata": {
        "collapsed": false
      },
      "outputs": [],
      "source": [
        "%matplotlib inline"
      ]
    },
    {
      "cell_type": "markdown",
      "metadata": {},
      "source": [
        "\n# Basic Assumption Tuning with Pipeline and Gridsearch\n\n\nThis example demonstrates testing multiple number of periods in the development\ntransformer to see its influence on the overall ultimate estimate.\n\n"
      ]
    },
    {
      "cell_type": "code",
      "execution_count": null,
      "metadata": {
        "collapsed": false
      },
      "outputs": [],
      "source": [
        "import chainladder as cl\n\ntri = cl.load_sample('abc')\n\n# Set up Pipeline\nsteps = [('dev',cl.Development()),\n         ('chainladder',cl.Chainladder())]\nparams = dict(dev__n_periods=[item for item in range(2,11)])\npipe = cl.Pipeline(steps=steps)\n\n# Develop scoring function that returns an Ultimate/Incurred Ratio\nscoring = lambda x: (x.named_steps.chainladder.ultimate_.sum() /\n                     tri.latest_diagonal.sum())\n\n# Run GridSearch\ngrid = cl.GridSearch(pipe, params, scoring).fit(tri)\n\n# Plot Results\ngrid.results_.plot(\n    x='dev__n_periods',y='score', marker='o', grid=True).set(\n    ylabel='Ultimate / Incurred');"
      ]
    }
  ],
  "metadata": {
    "kernelspec": {
      "display_name": "Python 3",
      "language": "python",
      "name": "python3"
    },
    "language_info": {
      "codemirror_mode": {
        "name": "ipython",
        "version": 3
      },
      "file_extension": ".py",
      "mimetype": "text/x-python",
      "name": "python",
      "nbconvert_exporter": "python",
      "pygments_lexer": "ipython3",
      "version": "3.6.3"
    }
  },
  "nbformat": 4,
  "nbformat_minor": 0
}