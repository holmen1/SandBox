{
  "cells": [
    {
      "cell_type": "code",
      "execution_count": null,
      "metadata": {
        "collapsed": false
      },
      "outputs": [],
      "source": [
        "%matplotlib inline"
      ]
    },
    {
      "cell_type": "markdown",
      "metadata": {},
      "source": [
        "\n# Value at Risk example\n\n\nThis example uses the `BootstrapODPSample` to simulate new triangles that\nare then used to simulate an IBNR distribution from which we can do\nValue at Risk percentile lookups.\n\n"
      ]
    },
    {
      "cell_type": "code",
      "execution_count": null,
      "metadata": {
        "collapsed": false
      },
      "outputs": [],
      "source": [
        "import chainladder as cl\n\n# Load triangle\ntriangle = cl.load_sample('genins')\n\n# Create 1000 bootstrap samples of the triangle\nresampled_triangles = cl.BootstrapODPSample().fit_transform(triangle)\n\n# Create 1000 IBNR estimates\nsim_ibnr = cl.Chainladder().fit(resampled_triangles).ibnr_.sum('origin')\n\n# X - mu\nsim_ibnr = (sim_ibnr - sim_ibnr.mean()).to_frame().sort_values()\n\n# Plot data\nsim_ibnr.index = [item/1000 for item in range(1000)]\nsim_ibnr.loc[0.90:].plot(\n    title='Bootstrap VaR (90% and above)', color='red', grid=True).set(\n    xlabel='VaR');"
      ]
    }
  ],
  "metadata": {
    "kernelspec": {
      "display_name": "Python 3",
      "language": "python",
      "name": "python3"
    },
    "language_info": {
      "codemirror_mode": {
        "name": "ipython",
        "version": 3
      },
      "file_extension": ".py",
      "mimetype": "text/x-python",
      "name": "python",
      "nbconvert_exporter": "python",
      "pygments_lexer": "ipython3",
      "version": "3.6.3"
    }
  },
  "nbformat": 4,
  "nbformat_minor": 0
}