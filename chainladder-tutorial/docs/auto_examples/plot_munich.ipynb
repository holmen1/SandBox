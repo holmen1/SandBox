{
  "cells": [
    {
      "cell_type": "code",
      "execution_count": null,
      "metadata": {
        "collapsed": false
      },
      "outputs": [],
      "source": [
        "%matplotlib inline"
      ]
    },
    {
      "cell_type": "markdown",
      "metadata": {},
      "source": [
        "\n# Munich Adjustment Example\n\n\nThis example demonstrates how to adjust LDFs by the relationship between Paid\nand Incurred using the MunichAdjustment.\n.\n\n"
      ]
    },
    {
      "cell_type": "code",
      "execution_count": null,
      "metadata": {
        "collapsed": false
      },
      "outputs": [],
      "source": [
        "import chainladder as cl\nimport pandas as pd\nimport matplotlib.pyplot as plt\n\n# Load data\nmcl = cl.load_sample('mcl')\n# Volume weighted (default) LDFs\ndev = cl.Development().fit_transform(mcl)\n# Traditional Chainladder\ncl_traditional = cl.Chainladder().fit(dev).ultimate_\n# Munich Adjustment\ndev_munich = cl.MunichAdjustment(paid_to_incurred={'paid':'incurred'}).fit_transform(dev)\ncl_munich = cl.Chainladder().fit(dev_munich).ultimate_\n\n# Plot data\nfig, (ax0, ax1) = plt.subplots(ncols=2, sharex=True, figsize=(10,5))\nplot_kw = dict(kind='bar', grid=True, color=('blue', 'green'), alpha=0.7)\n\nplot1_data = cl_munich.to_frame().T.rename(\n    {'incurred':'Ultimate Incurred', 'paid': 'Ultimate Paid'}, axis=1)\n\nplot2_data = pd.concat(\n    ((cl_munich['paid'] / cl_munich['incurred']).rename(\n        'columns', ['Munich']).to_frame(),\n     (cl_traditional['paid'] / cl_traditional['incurred']).rename(\n         'columns', ['Traditional']).to_frame()), axis=1)\n\nplot1_data.plot(\n    title='Munich Chainladder', ax=ax0, **plot_kw).set(\n    ylabel='Ultimate', xlabel='Accident Year')\nplot2_data.plot(\n    title='P/I Ratio Comparison', ax=ax1, ylim=(0,1.25), **plot_kw).set(\n    ylabel='Paid Ultimate / Incurred Ultimate', xlabel='Accident Year');"
      ]
    }
  ],
  "metadata": {
    "kernelspec": {
      "display_name": "Python 3",
      "language": "python",
      "name": "python3"
    },
    "language_info": {
      "codemirror_mode": {
        "name": "ipython",
        "version": 3
      },
      "file_extension": ".py",
      "mimetype": "text/x-python",
      "name": "python",
      "nbconvert_exporter": "python",
      "pygments_lexer": "ipython3",
      "version": "3.6.3"
    }
  },
  "nbformat": 4,
  "nbformat_minor": 0
}