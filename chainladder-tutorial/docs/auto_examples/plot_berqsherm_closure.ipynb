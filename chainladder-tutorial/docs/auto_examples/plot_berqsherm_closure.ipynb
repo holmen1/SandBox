{
  "cells": [
    {
      "cell_type": "code",
      "execution_count": null,
      "metadata": {
        "collapsed": false
      },
      "outputs": [],
      "source": [
        "%matplotlib inline"
      ]
    },
    {
      "cell_type": "markdown",
      "metadata": {},
      "source": [
        "\n# Berquist-Sherman Disposal Rate Adjustment\n\n\nThis example demonstrates the adjustment to paid amounts and closed claim\ncounts using the Berquist-Sherman method.  The method calculates a `disposal_rate_`\nusing the `report_count_estimator`.  The disposal rates of the latest diagonal\nare then used to infer adjustments to the inner diagonals of both the closed\nclaim triangle as well as the paid amount triangle.\n\n\n"
      ]
    },
    {
      "cell_type": "code",
      "execution_count": null,
      "metadata": {
        "collapsed": false
      },
      "outputs": [],
      "source": [
        "import chainladder as cl\nimport matplotlib.pyplot as plt\n\n\n# Load data\ntriangle = cl.load_sample('berqsherm').loc['Auto']\n# Specify Berquist-Sherman model\nberq = cl.BerquistSherman(\n    paid_amount='Paid', incurred_amount='Incurred',\n    reported_count='Reported', closed_count='Closed',\n    reported_count_estimator=cl.Chainladder())\n\n# Adjust our triangle data\nberq_triangle = berq.fit_transform(triangle)\nberq_cdf = cl.Development().fit(berq_triangle).cdf_\norig_cdf = cl.Development().fit(triangle).cdf_\n\n# Plot data\nfig, ((ax0, ax1)) = plt.subplots(ncols=2, figsize=(15,5))\n(berq_cdf['Paid'] / orig_cdf['Paid']).T.plot(\n    kind='bar', grid=True, legend=False, ax=ax0,\n    title='Berquist Sherman Paid to Unadjusted Paid').set(\n    xlabel='Age to Ultimate', ylabel='Paid CDF Adjustment');\n\n(berq_cdf['Closed'] / orig_cdf['Closed']).T.plot(\n    kind='bar', grid=True, legend=False, ax=ax1,\n    title='Berquist Sherman Closed Count to Unadjusted Closed Count').set(\n    xlabel='Age to Ultimate', ylabel='Closed Count CDF Adjustment');\nfig.suptitle(\"Berquist-Sherman Closure Rate Adjustments\");"
      ]
    }
  ],
  "metadata": {
    "kernelspec": {
      "display_name": "Python 3",
      "language": "python",
      "name": "python3"
    },
    "language_info": {
      "codemirror_mode": {
        "name": "ipython",
        "version": 3
      },
      "file_extension": ".py",
      "mimetype": "text/x-python",
      "name": "python",
      "nbconvert_exporter": "python",
      "pygments_lexer": "ipython3",
      "version": "3.6.3"
    }
  },
  "nbformat": 4,
  "nbformat_minor": 0
}