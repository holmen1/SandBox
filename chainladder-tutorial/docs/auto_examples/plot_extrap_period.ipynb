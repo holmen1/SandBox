{
  "cells": [
    {
      "cell_type": "code",
      "execution_count": null,
      "metadata": {
        "collapsed": false
      },
      "outputs": [],
      "source": [
        "%matplotlib inline"
      ]
    },
    {
      "cell_type": "markdown",
      "metadata": {},
      "source": [
        "\n# Extrapolation Period Sensitivity\n\n\nThis example demonstrates the ``extrap_periods`` functionality of the `TailCurve`\nestimator.  The estimator defaults to extrapolating out 100 periods.  However,\nwe can see that the \"Inverse Power\" curve fit doesn't converge to its asymptotic\nvalue.\n\n\n"
      ]
    },
    {
      "cell_type": "code",
      "execution_count": null,
      "metadata": {
        "collapsed": false
      },
      "outputs": [],
      "source": [
        "import chainladder as cl\n\ntri = cl.load_sample('clrd').groupby('LOB').sum().loc['medmal', 'CumPaidLoss']\n\n# Create a fuction to grab the scalar tail value.\ndef scoring(model):\n    \"\"\" Scoring functions must return a scalar \"\"\"\n    return model.tail_.iloc[0, 0]\n\n# Create a grid of scenarios\nparam_grid = dict(\n    extrap_periods=list(range(1, 100, 6)),\n    curve=['inverse_power', 'exponential'])\n\n# Fit Grid\nmodel = cl.GridSearch(cl.TailCurve(), param_grid=param_grid, scoring=scoring).fit(tri)\n\n# Plot results\nmodel.results_.pivot(columns='curve', index='extrap_periods', values='score').plot(\n    grid=True, ylim=(1,None), title='Curve Fit Sensitivity to Extrapolation Period').set(\n    ylabel='Tail Factor');"
      ]
    }
  ],
  "metadata": {
    "kernelspec": {
      "display_name": "Python 3",
      "language": "python",
      "name": "python3"
    },
    "language_info": {
      "codemirror_mode": {
        "name": "ipython",
        "version": 3
      },
      "file_extension": ".py",
      "mimetype": "text/x-python",
      "name": "python",
      "nbconvert_exporter": "python",
      "pygments_lexer": "ipython3",
      "version": "3.6.3"
    }
  },
  "nbformat": 4,
  "nbformat_minor": 0
}