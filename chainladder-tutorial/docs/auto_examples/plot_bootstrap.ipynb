{
  "cells": [
    {
      "cell_type": "code",
      "execution_count": null,
      "metadata": {
        "collapsed": false
      },
      "outputs": [],
      "source": [
        "%matplotlib inline"
      ]
    },
    {
      "cell_type": "markdown",
      "metadata": {},
      "source": [
        "\n# ODP Bootstrap Example\n\n\nThis example demonstrates how you can can use the Overdispersed Poisson\nBootstrap sampler and get various properties about parameter uncertainty.\n\n"
      ]
    },
    {
      "cell_type": "code",
      "execution_count": null,
      "metadata": {
        "collapsed": false
      },
      "outputs": [],
      "source": [
        "import chainladder as cl\nimport matplotlib.pyplot as plt\n\n#  Grab a Triangle\ntri = cl.load_sample('genins')\n# Generate bootstrap samples\nsims = cl.BootstrapODPSample().fit_transform(tri)\n# Calculate LDF for each simulation\nsim_ldf = cl.Development().fit(sims).ldf_\n\n# Plot the Data\nfig, ((ax00, ax01), (ax10, ax11)) = plt.subplots(ncols=2, nrows=2, figsize=(10,10))\n# Plot 1\ntri.T.plot(ax=ax00, grid=True).set(title='Raw Data', xlabel='Development', ylabel='Incurred')\n# Plot 2\nsims.mean().T.plot(ax=ax01, grid=True).set(title='Mean Simulation', xlabel='Development')\n# Plot 3\nsim_ldf.T.plot(legend=False, color='lightgray', ax=ax10, grid=True).set(\n    title='Simulated LDF', xlabel='Development', ylabel='LDF')\ncl.Development().fit(tri).ldf_.drop_duplicates().T.plot(\n    legend=False, color='red', ax=ax10, grid=True)\n# Plot 4\nsim_ldf.T.loc['12-24'].plot(\n    kind='hist', bins=50, alpha=0.5, ax=ax11 , grid=True).set(\n    title='Age 12-24 LDF Distribution', xlabel='LDF');"
      ]
    }
  ],
  "metadata": {
    "kernelspec": {
      "display_name": "Python 3",
      "language": "python",
      "name": "python3"
    },
    "language_info": {
      "codemirror_mode": {
        "name": "ipython",
        "version": 3
      },
      "file_extension": ".py",
      "mimetype": "text/x-python",
      "name": "python",
      "nbconvert_exporter": "python",
      "pygments_lexer": "ipython3",
      "version": "3.6.3"
    }
  },
  "nbformat": 4,
  "nbformat_minor": 0
}