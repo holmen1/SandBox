{
  "cells": [
    {
      "cell_type": "code",
      "execution_count": null,
      "metadata": {
        "collapsed": false
      },
      "outputs": [],
      "source": [
        "%matplotlib inline"
      ]
    },
    {
      "cell_type": "markdown",
      "metadata": {},
      "source": [
        "\n# Mack Chainladder Example\n\n\nThis example demonstrates how you can can use the Mack Chainladder method.\n\n"
      ]
    },
    {
      "cell_type": "code",
      "execution_count": null,
      "metadata": {
        "collapsed": false
      },
      "outputs": [],
      "source": [
        "import pandas as pd\nimport chainladder as cl\n\n# Load the data\ndata = cl.load_sample('raa')\n\n# Compute Mack Chainladder ultimates and Std Err using 'volume' average\nmack = cl.MackChainladder()\ndev = cl.Development(average='volume')\nmack.fit(dev.fit_transform(data))\n\n# Plotting\nplot_data = mack.summary_.to_frame()\ng = plot_data[['Latest', 'IBNR']].plot(\n    kind='bar', stacked=True, ylim=(0, None), grid=True,\n    yerr=pd.DataFrame({'latest': plot_data['Mack Std Err']*0,\n                       'IBNR': plot_data['Mack Std Err']}),\n    title='Mack Chainladder Ultimate').set(\n    xlabel='Accident Year', ylabel='Loss');"
      ]
    }
  ],
  "metadata": {
    "kernelspec": {
      "display_name": "Python 3",
      "language": "python",
      "name": "python3"
    },
    "language_info": {
      "codemirror_mode": {
        "name": "ipython",
        "version": 3
      },
      "file_extension": ".py",
      "mimetype": "text/x-python",
      "name": "python",
      "nbconvert_exporter": "python",
      "pygments_lexer": "ipython3",
      "version": "3.6.3"
    }
  },
  "nbformat": 4,
  "nbformat_minor": 0
}