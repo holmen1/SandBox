{
  "cells": [
    {
      "cell_type": "code",
      "execution_count": null,
      "metadata": {
        "collapsed": false
      },
      "outputs": [],
      "source": [
        "%matplotlib inline"
      ]
    },
    {
      "cell_type": "markdown",
      "metadata": {},
      "source": [
        "\n# Stochastic Bornhuetter Ferguson\n\n\nThere are several aspects of the chainladder module that are demonstrated with\nthis example.\n\n1. We see how to use the `BootstrapODPSample` and `BornhuetterFerguson` to come\n  up with a stochastic view of the Bornhuetter-Ferguson method.\n2. We use the `broadcast_axis` method of the triangle class (new in 0.4.7)\n\n\n"
      ]
    },
    {
      "cell_type": "code",
      "execution_count": null,
      "metadata": {
        "collapsed": false
      },
      "outputs": [],
      "source": [
        "import chainladder as cl\n\n# Simulation parameters\nrandom_state = 42\nn_sims = 1000\n\n# Get data\nloss = cl.load_sample('genins')\npremium = loss.latest_diagonal*0+8e6\n\n# Simulate loss triangles\nsim = cl.BootstrapODPSample(random_state=random_state, n_sims=n_sims)\nsim.fit(loss, sample_weight=premium)\n\n\n# Fit Bornhuetter-Ferguson to stochastically generated data\nmodel = cl.BornhuetterFerguson(0.65, apriori_sigma=0.10)\nmodel.fit(sim.resampled_triangles_, sample_weight=premium)\n\n# Grab completed triangle replacing simulated known data with actual known data\nfull_triangle = model.full_triangle_ - model.X_ + \\\n                loss.broadcast_axis('index', sim.resampled_triangles_.index)\n\n# Limiting to the current year for plotting\ncurrent_year = full_triangle[full_triangle.origin==full_triangle.origin.max()].to_frame().T\n\n# Plot the data\ncurrent_year.reset_index(drop=True).plot(\n    color='orange', legend=False, alpha=0.1,\n    title='Current Accident Year BornFerg Distribution', grid=True);"
      ]
    }
  ],
  "metadata": {
    "kernelspec": {
      "display_name": "Python 3",
      "language": "python",
      "name": "python3"
    },
    "language_info": {
      "codemirror_mode": {
        "name": "ipython",
        "version": 3
      },
      "file_extension": ".py",
      "mimetype": "text/x-python",
      "name": "python",
      "nbconvert_exporter": "python",
      "pygments_lexer": "ipython3",
      "version": "3.6.3"
    }
  },
  "nbformat": 4,
  "nbformat_minor": 0
}