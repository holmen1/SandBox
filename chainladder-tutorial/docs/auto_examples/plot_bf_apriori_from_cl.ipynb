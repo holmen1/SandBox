{
  "cells": [
    {
      "cell_type": "code",
      "execution_count": null,
      "metadata": {
        "collapsed": false
      },
      "outputs": [],
      "source": [
        "%matplotlib inline"
      ]
    },
    {
      "cell_type": "markdown",
      "metadata": {},
      "source": [
        "\n# Picking Bornhuetter-Ferguson Apriori\n\n\nThis example demonstrates how you can can use the output of one method as the\napriori selection for the Bornhuetter-Ferguson Method.\n\n"
      ]
    },
    {
      "cell_type": "code",
      "execution_count": null,
      "metadata": {
        "collapsed": false
      },
      "outputs": [],
      "source": [
        "import chainladder as cl\nimport pandas as pd\n\n# Create Aprioris as the mean AY chainladder ultimate\nraa = cl.load_sample('RAA')\ncl_ult = cl.Chainladder().fit(raa).ultimate_  # Chainladder Ultimate\napriori = cl_ult*0+(cl_ult.sum()/10)  # Mean Chainladder Ultimate\nbf_ult = cl.BornhuetterFerguson(apriori=1).fit(raa, sample_weight=apriori).ultimate_\n\n# Plot of Ultimates\npd.concat(\n    (cl_ult.to_frame().rename({9999: 'Chainladder'}, axis=1),\n     bf_ult.to_frame().rename({9999: 'BornhuetterFerguson'}, axis=1)),\n    axis=1).plot(grid=True, marker='o').set(\n    xlabel='Accident Year', ylabel='Ultimate');"
      ]
    }
  ],
  "metadata": {
    "kernelspec": {
      "display_name": "Python 3",
      "language": "python",
      "name": "python3"
    },
    "language_info": {
      "codemirror_mode": {
        "name": "ipython",
        "version": 3
      },
      "file_extension": ".py",
      "mimetype": "text/x-python",
      "name": "python",
      "nbconvert_exporter": "python",
      "pygments_lexer": "ipython3",
      "version": "3.6.3"
    }
  },
  "nbformat": 4,
  "nbformat_minor": 0
}