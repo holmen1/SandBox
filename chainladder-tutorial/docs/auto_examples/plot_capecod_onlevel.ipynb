{
  "cells": [
    {
      "cell_type": "code",
      "execution_count": null,
      "metadata": {
        "collapsed": false
      },
      "outputs": [],
      "source": [
        "%matplotlib inline"
      ]
    },
    {
      "cell_type": "markdown",
      "metadata": {},
      "source": [
        "\n# Include On-leveling into Cape Cod\n\n\nThis example demonstrates how to incorporate on-leveling into the `CapeCod`\nestimator.  The on-level approach emulates the approach taken by Friedland in\n\"Estimating Unpaid Claims Using Basic Techniques\" Chapter 10.  The `ParallelogramOLF`\nestimator is new in chainladder 0.7.9 as is the `xyz` triangle.\n\n"
      ]
    },
    {
      "cell_type": "code",
      "execution_count": null,
      "metadata": {
        "collapsed": false
      },
      "outputs": [],
      "source": [
        "import chainladder as cl\nimport pandas as pd\n\n# Grab a triangle\nxyz = cl.load_sample('xyz')\n\n# Premium on-leveling factors\nrate_history = pd.DataFrame({\n    'date': ['1/1/1999', '1/1/2000', '1/1/2001', '1/1/2002', '1/1/2003',\n             '1/1/2004', '1/1/2005', '1/1/2006', '1/1/2007', '1/1/2008'],\n    'rate_change': [.02, .02, .02, .02, .05, .075, .15, .1, -.2, -.2]\n})\n\n# Loss on-leveling factors\ntort_reform = pd.DataFrame({\n    'date': ['1/1/2006', '1/1/2007'],\n    'rate_change': [-0.1067, -.25]\n})\n\n# In addition to development, include onlevel estimator in pipeline for loss\npipe = cl.Pipeline(steps=[\n    ('olf', cl.ParallelogramOLF(tort_reform, change_col='rate_change', date_col='date', vertical_line=True)),\n    ('dev', cl.Development(n_periods=2)),\n    ('model', cl.CapeCod(trend=0.034))\n])\n\n# Define X\nX = cl.load_sample('xyz')['Incurred']\n\n# Separately apply on-level factors for premium\nsample_weight = cl.ParallelogramOLF(\n    rate_history, change_col='rate_change', date_col='date',\n    vertical_line=True).fit_transform(xyz['Premium'].latest_diagonal)\n\n#  Fit Cod Estimator\npipe.fit(X, sample_weight=sample_weight).named_steps.model.ultimate_\n\n# Create a Cape Cod pipeline without onleveling\npipe2 = cl.Pipeline(steps=[\n    ('dev', cl.Development(n_periods=2)),\n    ('model', cl.CapeCod(trend=0.034))\n])\n\n\n# Finally fit Cod Estimator without on-leveling\npipe2.fit(X, sample_weight=xyz['Premium'].latest_diagonal).named_steps.model.ultimate_\n\n# Plot results\ncl.concat((\n    pipe.named_steps.model.ultimate_.rename('columns', ['With On-level']),\n    pipe2.named_steps.model.ultimate_.rename('columns', ['Without On-level'])), 1).T.plot(\n    title='Cape Cod sensitivity to on-leveling', grid=True);"
      ]
    }
  ],
  "metadata": {
    "kernelspec": {
      "display_name": "Python 3",
      "language": "python",
      "name": "python3"
    },
    "language_info": {
      "codemirror_mode": {
        "name": "ipython",
        "version": 3
      },
      "file_extension": ".py",
      "mimetype": "text/x-python",
      "name": "python",
      "nbconvert_exporter": "python",
      "pygments_lexer": "ipython3",
      "version": "3.6.3"
    }
  },
  "nbformat": 4,
  "nbformat_minor": 0
}