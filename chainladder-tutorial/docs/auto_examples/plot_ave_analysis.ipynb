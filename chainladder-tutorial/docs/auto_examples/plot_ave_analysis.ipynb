{
  "cells": [
    {
      "cell_type": "code",
      "execution_count": null,
      "metadata": {
        "collapsed": false
      },
      "outputs": [],
      "source": [
        "%matplotlib inline"
      ]
    },
    {
      "cell_type": "markdown",
      "metadata": {},
      "source": [
        "\n# Actual Vs Expected Analysis\n\n\nThis example demonstrates how you can slice triangle objects to perform a\ntypical 'Actual vs Expected' analysis.  We will use Medical Malpractice\npayment patterns for the demo.\n\n"
      ]
    },
    {
      "cell_type": "code",
      "execution_count": null,
      "metadata": {
        "collapsed": false
      },
      "outputs": [],
      "source": [
        "import chainladder as cl\n\n# Load the data\ntri_1997 = cl.load_sample('clrd')\ntri_1997 = tri_1997.groupby('LOB').sum().loc['medmal']['CumPaidLoss']\n\n# Create a triangle as of the previous valuation and build IBNR model\ntri_1996 = tri_1997[tri_1997.valuation < '1997']\nmodel_1996 = cl.Chainladder().fit(cl.TailCurve().fit_transform(tri_1996))\n\n# Slice the expected losses from the 1997 calendar period of the model\nave = model_1996.full_triangle_.dev_to_val()\nave = ave[ave.valuation==tri_1997.valuation_date].rename('columns', 'Expected')\n\n# Slice the actual losses from the 1997 calendar period for prior AYs\nave['Actual'] = tri_1997.latest_diagonal[tri_1997.origin < '1997']\nave['Actual - Expected'] = ave['Actual'] - ave['Expected']\n\n# Plotting\nave.to_frame().T.plot(\n    y='Actual - Expected', kind='bar', legend=False, grid=True).set(\n    title='Calendar Period 1997 Performance',\n    xlabel='Accident Period', ylabel='Actual - Expected');"
      ]
    }
  ],
  "metadata": {
    "kernelspec": {
      "display_name": "Python 3",
      "language": "python",
      "name": "python3"
    },
    "language_info": {
      "codemirror_mode": {
        "name": "ipython",
        "version": 3
      },
      "file_extension": ".py",
      "mimetype": "text/x-python",
      "name": "python",
      "nbconvert_exporter": "python",
      "pygments_lexer": "ipython3",
      "version": "3.6.3"
    }
  },
  "nbformat": 4,
  "nbformat_minor": 0
}