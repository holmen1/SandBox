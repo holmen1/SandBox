{
 "cells": [
  {
   "cell_type": "code",
   "execution_count": 92,
   "metadata": {},
   "outputs": [],
   "source": [
    "import numpy as np\n",
    "import pandas as pd\n",
    "import matplotlib.pyplot as plt\n",
    "from esg import EconomicScenarioGenerator"
   ]
  },
  {
   "cell_type": "code",
   "execution_count": 84,
   "metadata": {},
   "outputs": [],
   "source": [
    "corr = np.array([[1.0, 0.032], [0.032, 1.0]])\n",
    "headers = \"['AK_SV', 'AK_WORLD']\"\n",
    "s0 = np.array([393.0, 28.5])\n",
    "ar = np.array([0.0,1.0])\n",
    "mu = np.array([0.2, 0.4])\n",
    "sigma = np.array([0.16,0.1])"
   ]
  },
  {
   "cell_type": "code",
   "execution_count": 85,
   "metadata": {},
   "outputs": [],
   "source": [
    "N,t_steps, partition = 10, 24, 12\n",
    "ESG = EconomicScenarioGenerator(s0, ar, mu, sigma, corr)"
   ]
  },
  {
   "cell_type": "code",
   "execution_count": 86,
   "metadata": {},
   "outputs": [],
   "source": [
    "S = ESG.get_scenarios(N,t_steps, partition)"
   ]
  },
  {
   "cell_type": "code",
   "execution_count": 88,
   "metadata": {},
   "outputs": [
    {
     "data": {
      "text/plain": [
       "(10, 24, 2)"
      ]
     },
     "execution_count": 88,
     "metadata": {},
     "output_type": "execute_result"
    }
   ],
   "source": [
    "S.shape"
   ]
  },
  {
   "cell_type": "code",
   "execution_count": 89,
   "metadata": {},
   "outputs": [
    {
     "data": {
      "text/plain": [
       "array([[[393.        ,  28.5       ],\n",
       "        [406.74888984,  26.14681157],\n",
       "        [401.18089923,  23.99087275],\n",
       "        [402.57208464,  22.04168107],\n",
       "        [412.78548156,  20.24177268]],\n",
       "\n",
       "       [[393.        ,  28.5       ],\n",
       "        [404.83158479,  26.11570724],\n",
       "        [417.7296839 ,  23.97005402],\n",
       "        [420.84071309,  22.03444899],\n",
       "        [408.6142346 ,  20.2647062 ]],\n",
       "\n",
       "       [[393.        ,  28.5       ],\n",
       "        [377.28529096,  26.19865122],\n",
       "        [371.31283583,  24.0561097 ],\n",
       "        [375.60630835,  22.00802784],\n",
       "        [363.42033253,  20.20737508]],\n",
       "\n",
       "       [[393.        ,  28.5       ],\n",
       "        [434.47407278,  26.16809766],\n",
       "        [440.55208366,  24.04831565],\n",
       "        [477.23490686,  22.09610443],\n",
       "        [468.39061127,  20.28903265]]])"
      ]
     },
     "execution_count": 89,
     "metadata": {},
     "output_type": "execute_result"
    }
   ],
   "source": [
    "S[:4,:5,:]"
   ]
  },
  {
   "cell_type": "code",
   "execution_count": 90,
   "metadata": {},
   "outputs": [],
   "source": [
    "df = pd.DataFrame(S.reshape(-1, S.shape[-1]), columns=['S', 'R'])"
   ]
  },
  {
   "cell_type": "code",
   "execution_count": 91,
   "metadata": {},
   "outputs": [
    {
     "data": {
      "text/html": [
       "<div>\n",
       "<style scoped>\n",
       "    .dataframe tbody tr th:only-of-type {\n",
       "        vertical-align: middle;\n",
       "    }\n",
       "\n",
       "    .dataframe tbody tr th {\n",
       "        vertical-align: top;\n",
       "    }\n",
       "\n",
       "    .dataframe thead th {\n",
       "        text-align: right;\n",
       "    }\n",
       "</style>\n",
       "<table border=\"1\" class=\"dataframe\">\n",
       "  <thead>\n",
       "    <tr style=\"text-align: right;\">\n",
       "      <th></th>\n",
       "      <th>S</th>\n",
       "      <th>R</th>\n",
       "    </tr>\n",
       "  </thead>\n",
       "  <tbody>\n",
       "    <tr>\n",
       "      <th>0</th>\n",
       "      <td>393.000000</td>\n",
       "      <td>28.500000</td>\n",
       "    </tr>\n",
       "    <tr>\n",
       "      <th>1</th>\n",
       "      <td>406.748890</td>\n",
       "      <td>26.146812</td>\n",
       "    </tr>\n",
       "    <tr>\n",
       "      <th>2</th>\n",
       "      <td>401.180899</td>\n",
       "      <td>23.990873</td>\n",
       "    </tr>\n",
       "    <tr>\n",
       "      <th>3</th>\n",
       "      <td>402.572085</td>\n",
       "      <td>22.041681</td>\n",
       "    </tr>\n",
       "    <tr>\n",
       "      <th>4</th>\n",
       "      <td>412.785482</td>\n",
       "      <td>20.241773</td>\n",
       "    </tr>\n",
       "  </tbody>\n",
       "</table>\n",
       "</div>"
      ],
      "text/plain": [
       "            S          R\n",
       "0  393.000000  28.500000\n",
       "1  406.748890  26.146812\n",
       "2  401.180899  23.990873\n",
       "3  402.572085  22.041681\n",
       "4  412.785482  20.241773"
      ]
     },
     "execution_count": 91,
     "metadata": {},
     "output_type": "execute_result"
    }
   ],
   "source": [
    "df.head()"
   ]
  },
  {
   "cell_type": "code",
   "execution_count": 93,
   "metadata": {},
   "outputs": [
    {
     "data": {
      "text/plain": [
       "<matplotlib.axes._subplots.AxesSubplot at 0x7fdedf84dd50>"
      ]
     },
     "execution_count": 93,
     "metadata": {},
     "output_type": "execute_result"
    },
    {
     "data": {
      "image/png": "[encoded data removed]",
      "text/plain": [
       "<Figure size 432x288 with 1 Axes>"
      ]
     },
     "metadata": {
      "needs_background": "light"
     },
     "output_type": "display_data"
    }
   ],
   "source": [
    "df.plot()"
   ]
  },
  {
   "cell_type": "code",
   "execution_count": 95,
   "metadata": {},
   "outputs": [],
   "source": [
    "df['N'] = np.nan\n",
    "df['t'] = np.nan"
   ]
  },
  {
   "cell_type": "code",
   "execution_count": 102,
   "metadata": {},
   "outputs": [],
   "source": [
    "df.N = df.index // t_steps\n",
    "df.t = df.index % t_steps"
   ]
  },
  {
   "cell_type": "code",
   "execution_count": 105,
   "metadata": {},
   "outputs": [],
   "source": [
    "df.to_csv('szenarios.csv', index=False)"
   ]
  },
  {
   "cell_type": "code",
   "execution_count": null,
   "metadata": {},
   "outputs": [],
   "source": []
  }
 ],
 "metadata": {
  "kernelspec": {
   "display_name": "Python 3",
   "language": "python",
   "name": "python3"
  },
  "language_info": {
   "codemirror_mode": {
    "name": "ipython",
    "version": 3
   },
   "file_extension": ".py",
   "mimetype": "text/x-python",
   "name": "python",
   "nbconvert_exporter": "python",
   "pygments_lexer": "ipython3",
   "version": "3.7.7"
  }
 },
 "nbformat": 4,
 "nbformat_minor": 4
}
