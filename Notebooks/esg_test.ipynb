{
 "cells": [
  {
   "cell_type": "code",
   "execution_count": 1,
   "metadata": {},
   "outputs": [],
   "source": [
    "import numpy as np\n",
    "from esg import EconomicScenarioGenerator"
   ]
  },
  {
   "cell_type": "code",
   "execution_count": 17,
   "metadata": {},
   "outputs": [],
   "source": [
    "corr = np.array([[1.0, -0.6, 0.3], [-0.6, 1.0, 0.02], [0.3, 0.02, 1.0]])\n",
    "headers = \"['AK_SV', 'AK_WORLD', 'RB5']\"\n",
    "s0 = np.array([393.0, 275.1, 8.5])\n",
    "ar = np.array([0.0, 0.0, 1.0])\n",
    "mu = np.array([0.2, 0.2, 8.5])\n",
    "sigma = np.array([0.026, 0.026, 0.4])"
   ]
  },
  {
   "cell_type": "code",
   "execution_count": 18,
   "metadata": {},
   "outputs": [],
   "source": [
    "N,t_steps, partition = 100000, 24, 12\n",
    "ESG = EconomicScenarioGenerator(s0, ar, mu, sigma, corr)"
   ]
  },
  {
   "cell_type": "code",
   "execution_count": 19,
   "metadata": {},
   "outputs": [],
   "source": [
    "S = ESG.get_scenarios(N,t_steps, partition)"
   ]
  },
  {
   "cell_type": "code",
   "execution_count": 20,
   "metadata": {},
   "outputs": [
    {
     "data": {
      "text/plain": [
       "(100000, 24, 3)"
      ]
     },
     "execution_count": 20,
     "metadata": {},
     "output_type": "execute_result"
    }
   ],
   "source": [
    "S.shape"
   ]
  },
  {
   "cell_type": "code",
   "execution_count": 21,
   "metadata": {},
   "outputs": [
    {
     "data": {
      "text/plain": [
       "array([[[393.        , 275.1       ,   8.5       ],\n",
       "        [400.88888964, 278.23227366,   8.66764363],\n",
       "        [411.60461522, 280.53622026,   8.67007979],\n",
       "        [420.44918091, 283.94628935,   8.71309236]],\n",
       "\n",
       "       [[393.        , 275.1       ,   8.5       ],\n",
       "        [396.29262826, 280.78812155,   8.64989007],\n",
       "        [398.67952267, 286.68248517,   8.56682119],\n",
       "        [400.76532204, 293.80936799,   8.42900228]]])"
      ]
     },
     "execution_count": 21,
     "metadata": {},
     "output_type": "execute_result"
    }
   ],
   "source": [
    "S[:2,:4,:]"
   ]
  },
  {
   "cell_type": "code",
   "execution_count": 22,
   "metadata": {},
   "outputs": [],
   "source": [
    "simCorr = np.zeros((N,S.shape[2],S.shape[2]))\n",
    "for n in range(N):\n",
    "    dS = np.diff(S[n], axis=0)\n",
    "    dS[:,:2] = np.diff(np.log(S[n,:,:2]), axis=0)\n",
    "    simCorr[n] = np.corrcoef(dS, rowvar=False)"
   ]
  },
  {
   "cell_type": "code",
   "execution_count": 23,
   "metadata": {},
   "outputs": [
    {
     "data": {
      "text/plain": [
       "array([[ 1.        , -0.59082072,  0.29241335],\n",
       "       [-0.59082072,  1.        ,  0.018175  ],\n",
       "       [ 0.29241335,  0.018175  ,  1.        ]])"
      ]
     },
     "execution_count": 23,
     "metadata": {},
     "output_type": "execute_result"
    }
   ],
   "source": [
    "np.mean(simCorr,axis=0)"
   ]
  },
  {
   "cell_type": "code",
   "execution_count": 24,
   "metadata": {},
   "outputs": [
    {
     "data": {
      "text/plain": [
       "array([[ 1.  , -0.6 ,  0.3 ],\n",
       "       [-0.6 ,  1.  ,  0.02],\n",
       "       [ 0.3 ,  0.02,  1.  ]])"
      ]
     },
     "execution_count": 24,
     "metadata": {},
     "output_type": "execute_result"
    }
   ],
   "source": [
    "corr"
   ]
  },
  {
   "cell_type": "code",
   "execution_count": null,
   "metadata": {},
   "outputs": [],
   "source": []
  },
  {
   "cell_type": "code",
   "execution_count": null,
   "metadata": {},
   "outputs": [],
   "source": []
  }
 ],
 "metadata": {
  "kernelspec": {
   "display_name": "Python 3",
   "language": "python",
   "name": "python3"
  },
  "language_info": {
   "codemirror_mode": {
    "name": "ipython",
    "version": 3
   },
   "file_extension": ".py",
   "mimetype": "text/x-python",
   "name": "python",
   "nbconvert_exporter": "python",
   "pygments_lexer": "ipython3",
   "version": "3.7.7"
  }
 },
 "nbformat": 4,
 "nbformat_minor": 4
}
