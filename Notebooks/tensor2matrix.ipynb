{
 "cells": [
  {
   "cell_type": "code",
   "execution_count": 1,
   "metadata": {},
   "outputs": [],
   "source": [
    "import numpy as np"
   ]
  },
  {
   "cell_type": "code",
   "execution_count": 57,
   "metadata": {},
   "outputs": [],
   "source": [
    "a = np.arange(1, 49).reshape((24, 2), order='F')\n",
    "b = np.arange(49, 97).reshape((24, 2), order='F')\n",
    "c = np.arange(97, 145).reshape((24, 2), order='F')"
   ]
  },
  {
   "cell_type": "code",
   "execution_count": 58,
   "metadata": {},
   "outputs": [
    {
     "data": {
      "text/plain": [
       "array([[ 1, 25],\n",
       "       [ 2, 26],\n",
       "       [ 3, 27],\n",
       "       [ 4, 28],\n",
       "       [ 5, 29],\n",
       "       [ 6, 30],\n",
       "       [ 7, 31],\n",
       "       [ 8, 32],\n",
       "       [ 9, 33],\n",
       "       [10, 34],\n",
       "       [11, 35],\n",
       "       [12, 36],\n",
       "       [13, 37],\n",
       "       [14, 38],\n",
       "       [15, 39],\n",
       "       [16, 40],\n",
       "       [17, 41],\n",
       "       [18, 42],\n",
       "       [19, 43],\n",
       "       [20, 44],\n",
       "       [21, 45],\n",
       "       [22, 46],\n",
       "       [23, 47],\n",
       "       [24, 48]])"
      ]
     },
     "execution_count": 58,
     "metadata": {},
     "output_type": "execute_result"
    }
   ],
   "source": [
    "a"
   ]
  },
  {
   "cell_type": "code",
   "execution_count": 59,
   "metadata": {},
   "outputs": [
    {
     "data": {
      "text/plain": [
       "array([[49, 73],\n",
       "       [50, 74],\n",
       "       [51, 75],\n",
       "       [52, 76],\n",
       "       [53, 77],\n",
       "       [54, 78],\n",
       "       [55, 79],\n",
       "       [56, 80],\n",
       "       [57, 81],\n",
       "       [58, 82],\n",
       "       [59, 83],\n",
       "       [60, 84],\n",
       "       [61, 85],\n",
       "       [62, 86],\n",
       "       [63, 87],\n",
       "       [64, 88],\n",
       "       [65, 89],\n",
       "       [66, 90],\n",
       "       [67, 91],\n",
       "       [68, 92],\n",
       "       [69, 93],\n",
       "       [70, 94],\n",
       "       [71, 95],\n",
       "       [72, 96]])"
      ]
     },
     "execution_count": 59,
     "metadata": {},
     "output_type": "execute_result"
    }
   ],
   "source": [
    "b"
   ]
  },
  {
   "cell_type": "code",
   "execution_count": 60,
   "metadata": {},
   "outputs": [
    {
     "data": {
      "text/plain": [
       "array([[ 97, 121],\n",
       "       [ 98, 122],\n",
       "       [ 99, 123],\n",
       "       [100, 124],\n",
       "       [101, 125],\n",
       "       [102, 126],\n",
       "       [103, 127],\n",
       "       [104, 128],\n",
       "       [105, 129],\n",
       "       [106, 130],\n",
       "       [107, 131],\n",
       "       [108, 132],\n",
       "       [109, 133],\n",
       "       [110, 134],\n",
       "       [111, 135],\n",
       "       [112, 136],\n",
       "       [113, 137],\n",
       "       [114, 138],\n",
       "       [115, 139],\n",
       "       [116, 140],\n",
       "       [117, 141],\n",
       "       [118, 142],\n",
       "       [119, 143],\n",
       "       [120, 144]])"
      ]
     },
     "execution_count": 60,
     "metadata": {},
     "output_type": "execute_result"
    }
   ],
   "source": [
    "c"
   ]
  },
  {
   "cell_type": "code",
   "execution_count": 61,
   "metadata": {},
   "outputs": [],
   "source": [
    "d3 = np.array([a, b, c])"
   ]
  },
  {
   "cell_type": "code",
   "execution_count": 62,
   "metadata": {},
   "outputs": [
    {
     "data": {
      "text/plain": [
       "array([[ 1, 25],\n",
       "       [ 2, 26],\n",
       "       [ 3, 27],\n",
       "       [ 4, 28],\n",
       "       [ 5, 29],\n",
       "       [ 6, 30],\n",
       "       [ 7, 31],\n",
       "       [ 8, 32],\n",
       "       [ 9, 33],\n",
       "       [10, 34],\n",
       "       [11, 35],\n",
       "       [12, 36],\n",
       "       [13, 37],\n",
       "       [14, 38],\n",
       "       [15, 39],\n",
       "       [16, 40],\n",
       "       [17, 41],\n",
       "       [18, 42],\n",
       "       [19, 43],\n",
       "       [20, 44],\n",
       "       [21, 45],\n",
       "       [22, 46],\n",
       "       [23, 47],\n",
       "       [24, 48]])"
      ]
     },
     "execution_count": 62,
     "metadata": {},
     "output_type": "execute_result"
    }
   ],
   "source": [
    "d3[0]"
   ]
  },
  {
   "cell_type": "code",
   "execution_count": 63,
   "metadata": {},
   "outputs": [
    {
     "data": {
      "text/plain": [
       "(3, 24, 2)"
      ]
     },
     "execution_count": 63,
     "metadata": {},
     "output_type": "execute_result"
    }
   ],
   "source": [
    "d3.shape"
   ]
  },
  {
   "cell_type": "code",
   "execution_count": 69,
   "metadata": {},
   "outputs": [],
   "source": [
    "A = d3.reshape(-1, d3.shape[-1])"
   ]
  },
  {
   "cell_type": "code",
   "execution_count": 70,
   "metadata": {},
   "outputs": [
    {
     "data": {
      "text/plain": [
       "array([[  1,  25],\n",
       "       [  2,  26],\n",
       "       [  3,  27],\n",
       "       [  4,  28],\n",
       "       [  5,  29],\n",
       "       [  6,  30],\n",
       "       [  7,  31],\n",
       "       [  8,  32],\n",
       "       [  9,  33],\n",
       "       [ 10,  34],\n",
       "       [ 11,  35],\n",
       "       [ 12,  36],\n",
       "       [ 13,  37],\n",
       "       [ 14,  38],\n",
       "       [ 15,  39],\n",
       "       [ 16,  40],\n",
       "       [ 17,  41],\n",
       "       [ 18,  42],\n",
       "       [ 19,  43],\n",
       "       [ 20,  44],\n",
       "       [ 21,  45],\n",
       "       [ 22,  46],\n",
       "       [ 23,  47],\n",
       "       [ 24,  48],\n",
       "       [ 49,  73],\n",
       "       [ 50,  74],\n",
       "       [ 51,  75],\n",
       "       [ 52,  76],\n",
       "       [ 53,  77],\n",
       "       [ 54,  78],\n",
       "       [ 55,  79],\n",
       "       [ 56,  80],\n",
       "       [ 57,  81],\n",
       "       [ 58,  82],\n",
       "       [ 59,  83],\n",
       "       [ 60,  84],\n",
       "       [ 61,  85],\n",
       "       [ 62,  86],\n",
       "       [ 63,  87],\n",
       "       [ 64,  88],\n",
       "       [ 65,  89],\n",
       "       [ 66,  90],\n",
       "       [ 67,  91],\n",
       "       [ 68,  92],\n",
       "       [ 69,  93],\n",
       "       [ 70,  94],\n",
       "       [ 71,  95],\n",
       "       [ 72,  96],\n",
       "       [ 97, 121],\n",
       "       [ 98, 122],\n",
       "       [ 99, 123],\n",
       "       [100, 124],\n",
       "       [101, 125],\n",
       "       [102, 126],\n",
       "       [103, 127],\n",
       "       [104, 128],\n",
       "       [105, 129],\n",
       "       [106, 130],\n",
       "       [107, 131],\n",
       "       [108, 132],\n",
       "       [109, 133],\n",
       "       [110, 134],\n",
       "       [111, 135],\n",
       "       [112, 136],\n",
       "       [113, 137],\n",
       "       [114, 138],\n",
       "       [115, 139],\n",
       "       [116, 140],\n",
       "       [117, 141],\n",
       "       [118, 142],\n",
       "       [119, 143],\n",
       "       [120, 144]])"
      ]
     },
     "execution_count": 70,
     "metadata": {},
     "output_type": "execute_result"
    }
   ],
   "source": [
    "A"
   ]
  },
  {
   "cell_type": "code",
   "execution_count": 66,
   "metadata": {},
   "outputs": [
    {
     "data": {
      "text/plain": [
       "(6, 24)"
      ]
     },
     "execution_count": 66,
     "metadata": {},
     "output_type": "execute_result"
    }
   ],
   "source": [
    "A.shape"
   ]
  },
  {
   "cell_type": "code",
   "execution_count": null,
   "metadata": {},
   "outputs": [],
   "source": []
  },
  {
   "cell_type": "code",
   "execution_count": null,
   "metadata": {},
   "outputs": [],
   "source": []
  }
 ],
 "metadata": {
  "kernelspec": {
   "display_name": "Python 3",
   "language": "python",
   "name": "python3"
  },
  "language_info": {
   "codemirror_mode": {
    "name": "ipython",
    "version": 3
   },
   "file_extension": ".py",
   "mimetype": "text/x-python",
   "name": "python",
   "nbconvert_exporter": "python",
   "pygments_lexer": "ipython3",
   "version": "3.7.7"
  }
 },
 "nbformat": 4,
 "nbformat_minor": 4
}
